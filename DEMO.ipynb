{
 "cells": [
  {
   "cell_type": "markdown",
   "metadata": {},
   "source": [
    "## Imswitch/UC2-REST DEMO for 8P370 CBL Microscopy\n",
    "\n",
    "**By Marcus Vroemen and Tom van Hattem**\n",
    "\n",
    "*Using the open UC2 Rest and Imswitch Software*\n",
    "\n",
    "This tutorial and demo will shows you how to get started with Imswitch and UC2 in Python. Imswitch is a software package that allows the creation of graphical user interfaces (GUIs) and interact with our hardware, the open UC2 Controller Board to turn on LED matrices or control the motors. The board itself will not handle cameras, these will usually be handled over USB. Most online tutorials will show you. how to flash the boards. This should already be done on the controller boards, but if not they can easily be reflashed with help of this page: https://youseetoo.github.io/ <br>\n",
    "But before reflashing your computer will require drivers to see the controller board. If the official openUC2 boards are used with a ESP32-WROOM-32D controller and shield, you will need the CP210x drivers: https://www.silabs.com/developers/usb-to-uart-bridge-vcp-drivers?tab=downloads\n",
    "It is recommended to use Visual Studio Code or PyCharm, although Spyder is also possible (but please don't). <br>\n",
    "\n",
    "IMPORTANT: Do not attempt to use the motors without an external power supply. Powering over USB will most certainly not work/damage your computer.\n",
    "\n",
    "*Sidenote: also ensure that you are using a data cable. Charging micro usb cables will not be able to interact with the controller board. <br>*\n",
    "\n",
    "Let's get started. First we need to configure the python environment\n"
   ]
  },
  {
   "cell_type": "markdown",
   "metadata": {},
   "source": [
    "### Python Environment Configuration\n",
    "\n",
    "\n"
   ]
  },
  {
   "cell_type": "markdown",
   "metadata": {},
   "source": [
    "1. Create a new Python environment called `8P370`. Do this within the Anaconda command prompt, run:\n"
   ]
  },
  {
   "cell_type": "markdown",
   "metadata": {},
   "source": [
    "```python\n",
    "conda create --name 8P370 python=3.8\n",
    "```"
   ]
  },
  {
   "cell_type": "markdown",
   "metadata": {},
   "source": [
    "2. Make sure to activate the `8P370` environment before proceeding to install pacakges with the following command:\n"
   ]
  },
  {
   "cell_type": "markdown",
   "metadata": {},
   "source": [
    "```python\n",
    "conda activate 8P370\n",
    "```"
   ]
  },
  {
   "cell_type": "markdown",
   "metadata": {},
   "source": [
    "\n",
    "\n",
    "3. Next, install `UC2-REST` and `ImSwitch`  packages (and other packages you might need at the place of <...>) with `pip` using the following command:"
   ]
  },
  {
   "cell_type": "markdown",
   "metadata": {},
   "source": [
    "```python\n",
    "python3 -m pip install -U pip\n",
    "pip install UC2-REST --user\n",
    "pip install ImSwitchUC2==0.2.0.14\n",
    "pip install ipykernel \n",
    "pip install opencv-python numpy [Note: not required but recommeded]\n",
    "pip install <...>             \n",
    "```"
   ]
  },
  {
   "cell_type": "markdown",
   "metadata": {},
   "source": [
    "Hint: Make sure to only use `pip` from now on. Do not mix `pip` with `conda install`. Trust me."
   ]
  },
  {
   "cell_type": "markdown",
   "metadata": {},
   "source": [
    "###  Basic Python Code to control the microscope"
   ]
  },
  {
   "cell_type": "markdown",
   "metadata": {},
   "source": [
    "To use python code to control the microscope, we need to communicate with the UC2 Controller board. This is a USB connection through COM ports. In Windows open the device manager, under Ports(COM&LPT) when the board is connected it should show `Silicon Labs CP210x USB to UART Bridge (COM4)`. COM4 could be a different port but by default it usually is 3 or 4. Change in the next code block the serialport to your COM port. It has to be a string."
   ]
  },
  {
   "cell_type": "code",
   "execution_count": 1,
   "metadata": {},
   "outputs": [],
   "source": [
    "%reload_ext autoreload \n",
    "%autoreload 2\n",
    "\n",
    "#Import necessary libraries\n",
    "import uc2rest as uc2\n",
    "import numpy as np \n",
    "import time"
   ]
  },
  {
   "cell_type": "code",
   "execution_count": 2,
   "metadata": {},
   "outputs": [
    {
     "name": "stdout",
     "output_type": "stream",
     "text": [
      "Using API version 2\n",
      "Attention, lasers are on channels 1,2,3\n",
      "{'identifier_name': 'UC2_Feather', 'identifier_id': 'V2.0', 'identifier_date': 'Sep  7 202316:32:04', 'identifier_author': 'BD', 'IDENTIFIER_NAME': 'uc2-esp', 'configIsSet': 0, 'pindef': 'UC2_2', 'qid': 4}\n"
     ]
    }
   ],
   "source": [
    "\"\"\"Open communication with the UC2 Controller Board\n",
    "#The log should print '{identifier_name:... etc.}'. If you restart the kernel please rerun this script\n",
    "to ensure a com port connection has been established and is available to use. If only the state is printed \n",
    "it is likely that you have already run this code and the connection is still available in the kernel.\n",
    "\"\"\"\n",
    "\n",
    "serialport = \"COM76\" # for Windows - change accordingly\n",
    "#serialport = \"/dev/cu.SLAB_USBtoUART\" # for MAC change accordingly\n",
    "#serialport = \"/dev/cu.wchusbserial110\" # for MAC change accordingly\n",
    "\n",
    "if 'ESP32' not in locals():\n",
    "    ESP32 = uc2.UC2Client(serialport=serialport)\n",
    "_state = ESP32.state.get_state()\n",
    "print(_state)"
   ]
  },
  {
   "cell_type": "markdown",
   "metadata": {},
   "source": [
    "# LED MATRIX\n",
    "\n",
    "Now that we have initialized the COM port and UC2 controller we can test the LED matrix. Connect it to the LED1 port.\n",
    "\n",
    "<img src=\"img//IMG20230926153841.jpg\" alt=\"alt text\" width=\"500\"/>"
   ]
  },
  {
   "cell_type": "code",
   "execution_count": 14,
   "metadata": {},
   "outputs": [
    {
     "name": "stdout",
     "output_type": "stream",
     "text": [
      "The LED pin is: {'ledArrNum': 64, 'ledArrPin': 32, 'led_ison': 0, 'qid': 54, 'LEDArrMode': [0, 1, 2, 3, 4, 5, 6, 7]}\n"
     ]
    },
    {
     "data": {
      "text/plain": [
       "{'success': 1}"
      ]
     },
     "execution_count": 14,
     "metadata": {},
     "output_type": "execute_result"
    },
    {
     "name": "stdout",
     "output_type": "stream",
     "text": [
      "ClearCommError failed (PermissionError(13, 'Access is denied.', None, 5))\n"
     ]
    }
   ],
   "source": [
    "# test LED\n",
    "print(\"The LED pin is: \"+str(ESP32.led.get_ledpin()))\n",
    "time.sleep(2)\n",
    "ESP32.led.send_LEDMatrix_full(intensity=(255, 255, 255))\n",
    "time.sleep(2.5)\n",
    "ESP32.led.send_LEDMatrix_full(intensity=(0, 0, 0))"
   ]
  },
  {
   "cell_type": "markdown",
   "metadata": {},
   "source": [
    "# Initializing and Moving the motors\n",
    "Now lets connect the z-stage. Make sure to connect the external power supply, please don't blow up your usb ports. \n",
    "\n",
    "The following code snippets will help you moving the motors (XYZ) continously or at a known number of steps at a certain speed level (all measured in steps/s). <br>\n",
    "**In general:** The axes are: \n",
    "A => 0\n",
    "X => 1\n",
    "Y => 2\n",
    "Z => 3\n",
    "\n",
    "The pin configuration for the uc2 board can be found at: https://youseetoo.github.io/\n",
    "\n",
    "For the Z-stage:\n",
    "\n",
    "<img src=\"img//IMG20230926161544.jpg\" alt=\"alt text\" width=\"350\"/>"
   ]
  },
  {
   "cell_type": "code",
   "execution_count": 4,
   "metadata": {},
   "outputs": [],
   "source": [
    "# we don't want to change the configuration now\n",
    "# OR setup motors individually (according to WEMOS R32 D1)\n",
    "if 0:\n",
    "    ESP32.motor.set_motor(stepperid = 1, position = 0, stepPin = 26, dirPin=16, enablePin=12, maxPos=None, minPos=None, acceleration=None, isEnable=1)\n",
    "    ESP32.motor.set_motor(stepperid = 2, position = 0, stepPin = 25, dirPin=27, enablePin=12, maxPos=None, minPos=None, acceleration=None, isEnable=1)\n",
    "    ESP32.motor.set_motor(stepperid = 3, position = 0, stepPin = 17, dirPin=14, enablePin=12, maxPos=None, minPos=None, acceleration=None, isEnable=1)\n",
    "    ESP32.motor.set_motor(stepperid = 0, position = 0, stepPin = 19, dirPin=18, enablePin=12, maxPos=None, minPos=None, acceleration=None, isEnable=1)\n",
    "\n",
    "\n",
    "#ESP32.motor.set_motor(stepperid = 1, position = 0, stepPin = 2, dirPin=33, enablePin=13, maxPos=None, minPos=None, acceleration=None, isEnable=1)\n",
    "#ESP32.motor.set_motor(stepperid = 0, position = 0, stepPin = 22, dirPin=21, enablePin=13, maxPos=None, minPos=None, acceleration=None, isEnable=1)\n",
    "#ESP32.motor.set_motor(stepperid = 3, position = 0, stepPin = 12, dirPin=14, enablePin=13, maxPos=None, minPos=None, acceleration=None, isEnable=1)"
   ]
  },
  {
   "cell_type": "markdown",
   "metadata": {},
   "source": [
    "This pin configuration also can be reset to default values. For more information on the build in functions see this UC2-REST notebook: https://github.com/openUC2/UC2-REST/blob/master/DOCUMENTATION/DOC_UC2Client-PinConfigurator.ipynb\n",
    "\n"
   ]
  },
  {
   "cell_type": "code",
   "execution_count": 11,
   "metadata": {},
   "outputs": [
    {
     "name": "stdout",
     "output_type": "stream",
     "text": [
      "[     0.      0.      0. -29300.]\n",
      "[     0.      0.      0. -29300.]\n"
     ]
    }
   ],
   "source": [
    "position1 = ESP32.motor.get_position(timeout=1)\n",
    "print(position1)\n",
    "\n",
    "ESP32.motor.move_z(steps=-10000, speed=5000, is_blocking=True)\n",
    "ESP32.motor.move_z(steps=10000, speed=5000, is_blocking=True)\n",
    "\n",
    "ESP32.motor.move_z(steps=-10000, speed=10000, is_blocking=True)\n",
    "ESP32.motor.move_z(steps=10000, speed=10000, is_blocking=True)\n",
    "\n",
    "ESP32.motor.move_z(steps=-10000, speed=100000, is_blocking=True)\n",
    "ESP32.motor.move_z(steps=10000, speed=100000, is_blocking=True)\n",
    "\n",
    "time.sleep(1) \n",
    "\n",
    "position2 = ESP32.motor.get_position(timeout=1)\n",
    "print(position2)"
   ]
  },
  {
   "cell_type": "markdown",
   "metadata": {},
   "source": [
    "The ESP32 object will keep an connection to the board open until you reset the kernel or disconnect the USB. To close the connection with the software please use the command below. "
   ]
  },
  {
   "cell_type": "code",
   "execution_count": 20,
   "metadata": {},
   "outputs": [],
   "source": [
    "ESP32.close()"
   ]
  },
  {
   "cell_type": "markdown",
   "metadata": {},
   "source": [
    "A more extensive tutorial on the different features can be found in the official UC2-REST git: https://github.com/openUC2/UC2-REST/blob/master/DOCUMENTATION/DOC_UC2Client.ipynb"
   ]
  },
  {
   "cell_type": "markdown",
   "metadata": {},
   "source": [
    "# IMSWITCH\n",
    "\n",
    "So far we have only used UC2-REST, but we can also use IMSWITCH. IMSWITCH provides a nice user interface. It is easiest to install a new environment. You can follow the commands below in anaconda cmd or in a build in environment (but the conda should be in PATH). The commands first clone the openuc2 fork of imswitch, then install a new environment based on the requirements from the fork, then downloads config files from Ben (one of the creators of openUC2). These config files should be located in your documents folder. "
   ]
  },
  {
   "cell_type": "markdown",
   "metadata": {},
   "source": [
    "\n",
    "```python\n",
    "cd %HOMEPATH%\\Documents\n",
    "git clone https://github.com/openUC2/ImSwitch/\n",
    "cd ImSwitch\n",
    "\n",
    "conda create -n imswitch python=3.9 -y\n",
    "conda activate imswitch\n",
    "pip install -r requirements.txt --user\n",
    "\n",
    "cd %HOMEPATH%\\Documents\n",
    "```"
   ]
  },
  {
   "cell_type": "markdown",
   "metadata": {},
   "source": [
    "\n",
    "Note: if there is a folder called ImSwitchConfig => rename it!"
   ]
  },
  {
   "cell_type": "markdown",
   "metadata": {},
   "source": [
    "```python\t\n",
    "git clone https://github.com/beniroquai/ImSwitchConfig\n",
    "```"
   ]
  },
  {
   "cell_type": "markdown",
   "metadata": {},
   "source": [
    "To start imswitch use this command in the cmd line.\n",
    "```python\n",
    "cd %HOMEPATH%\\Documents\\ImSwitch\n",
    "python3 imswitch\n",
    "```\n",
    "\n",
    "Work In Progress, more documentation coming soon."
   ]
  },
  {
   "cell_type": "markdown",
   "metadata": {},
   "source": [
    "# Manual Camera Control\n",
    "Camera control can be achieved within python and with external software. Different setups require different cameras and software needs. For most automation tasks it is likely needed to access the camera within python. For other programs it might be easier to access through an external application."
   ]
  },
  {
   "cell_type": "markdown",
   "metadata": {},
   "source": [
    "### Alied Vision 1800 U-158M Camera\n",
    "The Alied Vision camera is meant for fluorescence detection due to high sensitivity. The software used for the Alied Vision Camera is VimbaX. The software [`VimbaX_Setup-2023-1-Win64.exe`] can be found on this page: https://www.alliedvision.com/en/products/software/vimba-x-sdk/ Make sure to connect the camera to your laptop during installation. This installation includes the vimba X viewer, which you can use to view the camera directly as a standalone program. Within the viewer use Camera>Freerun command to activate the camera (or use CTRL+F).\n",
    "\n",
    "<img src=\"img/AV-cam.jpg\" alt=\"Alied Vision Camera\" style=\"width: 250px; margin-right: 20px;\">\n",
    "\n",
    "To use the camera in python we need a few more steps. This SDK by default installs in C:\\Program Files. Within the installation we need the path to the python wheel file which can be found here: `C:\\Program Files\\Allied Vision\\Vimba X\\api\\python`. Within the anaconda prompt (or another cmd with python envs active) we change the directory to the Vimba Install directory and install from the .whl file with the following commands:\n",
    "\n",
    "```python\n",
    "cd \"C:\\\\Program Files\\\\Allied Vision\\\\Vimba X\\\\api\\\\python\"\n",
    "pip install vmbpy-1.0.2-py3-none-any.whl\n",
    "```\n",
    "\n",
    "Further documentation can be found at: https://docs.alliedvision.com/Vimba_X/Vimba_X_DeveloperGuide/pythonAPIManual.html"
   ]
  },
  {
   "cell_type": "code",
   "execution_count": 1,
   "metadata": {},
   "outputs": [
    {
     "name": "stdout",
     "output_type": "stream",
     "text": [
      "(<vmbpy.camera.Camera object at 0x000002BE7FA2BDF0>,)\n"
     ]
    }
   ],
   "source": [
    "#Test to see if the camera is now available. \n",
    "from vmbpy import *\n",
    "with VmbSystem.get_instance () as vmb:\n",
    "    cams = vmb.get_all_cameras ()\n",
    "\n",
    "print(cams)"
   ]
  },
  {
   "cell_type": "code",
   "execution_count": 2,
   "metadata": {},
   "outputs": [
    {
     "name": "stdout",
     "output_type": "stream",
     "text": [
      "(<vmbpy.camera.Camera object at 0x000002BE0F3F1B80>,)\n",
      "Camera(id=DEV_1AB22C026FF2)\n"
     ]
    },
    {
     "ename": "VmbCError",
     "evalue": "VmbCError(<VmbError.InternalFault: -1>)",
     "output_type": "error",
     "traceback": [
      "\u001b[1;31m---------------------------------------------------------------------------\u001b[0m",
      "\u001b[1;31mVmbCError\u001b[0m                                 Traceback (most recent call last)",
      "\u001b[1;32mc:\\Users\\20202827\\OneDrive - TU Eindhoven\\Modules\\Jaar 3\\Q4\\TA - CBL Microscopy\\8P370_Imswitch_DEMO-1\\DEMO.ipynb Cell 31\u001b[0m line \u001b[0;36m9\n\u001b[0;32m      <a href='vscode-notebook-cell:/c%3A/Users/20202827/OneDrive%20-%20TU%20Eindhoven/Modules/Jaar%203/Q4/TA%20-%20CBL%20Microscopy/8P370_Imswitch_DEMO-1/DEMO.ipynb#X42sZmlsZQ%3D%3D?line=5'>6</a>\u001b[0m \u001b[39mprint\u001b[39m(cams)\n\u001b[0;32m      <a href='vscode-notebook-cell:/c%3A/Users/20202827/OneDrive%20-%20TU%20Eindhoven/Modules/Jaar%203/Q4/TA%20-%20CBL%20Microscopy/8P370_Imswitch_DEMO-1/DEMO.ipynb#X42sZmlsZQ%3D%3D?line=6'>7</a>\u001b[0m \u001b[39mprint\u001b[39m(cams[\u001b[39m0\u001b[39m])\n\u001b[1;32m----> <a href='vscode-notebook-cell:/c%3A/Users/20202827/OneDrive%20-%20TU%20Eindhoven/Modules/Jaar%203/Q4/TA%20-%20CBL%20Microscopy/8P370_Imswitch_DEMO-1/DEMO.ipynb#X42sZmlsZQ%3D%3D?line=8'>9</a>\u001b[0m \u001b[39mwith\u001b[39;00m cams[\u001b[39m0\u001b[39m] \u001b[39mas\u001b[39;00m cam:\n\u001b[0;32m     <a href='vscode-notebook-cell:/c%3A/Users/20202827/OneDrive%20-%20TU%20Eindhoven/Modules/Jaar%203/Q4/TA%20-%20CBL%20Microscopy/8P370_Imswitch_DEMO-1/DEMO.ipynb#X42sZmlsZQ%3D%3D?line=9'>10</a>\u001b[0m     frame \u001b[39m=\u001b[39m cam\u001b[39m.\u001b[39mget_frame ()\n\u001b[0;32m     <a href='vscode-notebook-cell:/c%3A/Users/20202827/OneDrive%20-%20TU%20Eindhoven/Modules/Jaar%203/Q4/TA%20-%20CBL%20Microscopy/8P370_Imswitch_DEMO-1/DEMO.ipynb#X42sZmlsZQ%3D%3D?line=10'>11</a>\u001b[0m     frame\u001b[39m.\u001b[39mconvert_pixel_format(PixelFormat\u001b[39m.\u001b[39mMono8)\n",
      "File \u001b[1;32mc:\\Users\\20202827\\.conda\\envs\\8P370_v2\\lib\\site-packages\\vmbpy\\util\\tracer.py:131\u001b[0m, in \u001b[0;36mTraceEnable.__call__.<locals>.wrapper\u001b[1;34m(*args, **kwargs)\u001b[0m\n\u001b[0;32m    129\u001b[0m \u001b[39mif\u001b[39;00m _Tracer\u001b[39m.\u001b[39mis_log_enabled():\n\u001b[0;32m    130\u001b[0m     \u001b[39mwith\u001b[39;00m _Tracer(func, \u001b[39m*\u001b[39margs, \u001b[39m*\u001b[39m\u001b[39m*\u001b[39mkwargs):\n\u001b[1;32m--> 131\u001b[0m         result \u001b[39m=\u001b[39m func(\u001b[39m*\u001b[39;49margs, \u001b[39m*\u001b[39;49m\u001b[39m*\u001b[39;49mkwargs)\n\u001b[0;32m    133\u001b[0m     \u001b[39mreturn\u001b[39;00m result\n\u001b[0;32m    135\u001b[0m \u001b[39melse\u001b[39;00m:\n",
      "File \u001b[1;32mc:\\Users\\20202827\\.conda\\envs\\8P370_v2\\lib\\site-packages\\vmbpy\\camera.py:106\u001b[0m, in \u001b[0;36mCamera.__enter__\u001b[1;34m(self)\u001b[0m\n\u001b[0;32m    103\u001b[0m \u001b[39m@TraceEnable\u001b[39m()\n\u001b[0;32m    104\u001b[0m \u001b[39mdef\u001b[39;00m \u001b[39m__enter__\u001b[39m(\u001b[39mself\u001b[39m):\n\u001b[0;32m    105\u001b[0m     \u001b[39mif\u001b[39;00m \u001b[39mnot\u001b[39;00m \u001b[39mself\u001b[39m\u001b[39m.\u001b[39m__context_cnt:\n\u001b[1;32m--> 106\u001b[0m         \u001b[39mself\u001b[39;49m\u001b[39m.\u001b[39;49m_open()\n\u001b[0;32m    108\u001b[0m     \u001b[39mself\u001b[39m\u001b[39m.\u001b[39m__context_cnt \u001b[39m+\u001b[39m\u001b[39m=\u001b[39m \u001b[39m1\u001b[39m\n\u001b[0;32m    109\u001b[0m     \u001b[39mreturn\u001b[39;00m \u001b[39mself\u001b[39m\n",
      "File \u001b[1;32mc:\\Users\\20202827\\.conda\\envs\\8P370_v2\\lib\\site-packages\\vmbpy\\util\\tracer.py:131\u001b[0m, in \u001b[0;36mTraceEnable.__call__.<locals>.wrapper\u001b[1;34m(*args, **kwargs)\u001b[0m\n\u001b[0;32m    129\u001b[0m \u001b[39mif\u001b[39;00m _Tracer\u001b[39m.\u001b[39mis_log_enabled():\n\u001b[0;32m    130\u001b[0m     \u001b[39mwith\u001b[39;00m _Tracer(func, \u001b[39m*\u001b[39margs, \u001b[39m*\u001b[39m\u001b[39m*\u001b[39mkwargs):\n\u001b[1;32m--> 131\u001b[0m         result \u001b[39m=\u001b[39m func(\u001b[39m*\u001b[39;49margs, \u001b[39m*\u001b[39;49m\u001b[39m*\u001b[39;49mkwargs)\n\u001b[0;32m    133\u001b[0m     \u001b[39mreturn\u001b[39;00m result\n\u001b[0;32m    135\u001b[0m \u001b[39melse\u001b[39;00m:\n",
      "File \u001b[1;32mc:\\Users\\20202827\\.conda\\envs\\8P370_v2\\lib\\site-packages\\vmbpy\\util\\context_decorator.py:44\u001b[0m, in \u001b[0;36mEnterContextOnCall.__call__.<locals>.wrapper\u001b[1;34m(*args, **kwargs)\u001b[0m\n\u001b[0;32m     42\u001b[0m args[\u001b[39m0\u001b[39m]\u001b[39m.\u001b[39m_context_entered \u001b[39m=\u001b[39m \u001b[39mTrue\u001b[39;00m\n\u001b[0;32m     43\u001b[0m \u001b[39mtry\u001b[39;00m:\n\u001b[1;32m---> 44\u001b[0m     \u001b[39mreturn\u001b[39;00m func(\u001b[39m*\u001b[39;49margs, \u001b[39m*\u001b[39;49m\u001b[39m*\u001b[39;49mkwargs)\n\u001b[0;32m     45\u001b[0m \u001b[39mexcept\u001b[39;00m \u001b[39mException\u001b[39;00m:\n\u001b[0;32m     46\u001b[0m     \u001b[39m# If an error occurs during the function call, we do not consider the context to be\u001b[39;00m\n\u001b[0;32m     47\u001b[0m     \u001b[39m# entered\u001b[39;00m\n\u001b[0;32m     48\u001b[0m     args[\u001b[39m0\u001b[39m]\u001b[39m.\u001b[39m_context_entered \u001b[39m=\u001b[39m \u001b[39mFalse\u001b[39;00m\n",
      "File \u001b[1;32mc:\\Users\\20202827\\.conda\\envs\\8P370_v2\\lib\\site-packages\\vmbpy\\camera.py:517\u001b[0m, in \u001b[0;36mCamera._open\u001b[1;34m(self)\u001b[0m\n\u001b[0;32m    513\u001b[0m     \u001b[39mself\u001b[39m\u001b[39m.\u001b[39m__streams\u001b[39m.\u001b[39mappend(Stream(stream_handle\u001b[39m=\u001b[39m\u001b[39mself\u001b[39m\u001b[39m.\u001b[39m__info\u001b[39m.\u001b[39mstreamHandles[i],\n\u001b[0;32m    514\u001b[0m                                  is_open\u001b[39m=\u001b[39m(i \u001b[39m==\u001b[39m \u001b[39m0\u001b[39m),\n\u001b[0;32m    515\u001b[0m                                  parent_cam\u001b[39m=\u001b[39m\u001b[39mself\u001b[39m))\n\u001b[0;32m    516\u001b[0m \u001b[39mself\u001b[39m\u001b[39m.\u001b[39m__local_device \u001b[39m=\u001b[39m LocalDevice(\u001b[39mself\u001b[39m\u001b[39m.\u001b[39m__info\u001b[39m.\u001b[39mlocalDeviceHandle)\n\u001b[1;32m--> 517\u001b[0m \u001b[39mself\u001b[39;49m\u001b[39m.\u001b[39;49m_attach_feature_accessors()\n",
      "File \u001b[1;32mc:\\Users\\20202827\\.conda\\envs\\8P370_v2\\lib\\site-packages\\vmbpy\\util\\tracer.py:131\u001b[0m, in \u001b[0;36mTraceEnable.__call__.<locals>.wrapper\u001b[1;34m(*args, **kwargs)\u001b[0m\n\u001b[0;32m    129\u001b[0m \u001b[39mif\u001b[39;00m _Tracer\u001b[39m.\u001b[39mis_log_enabled():\n\u001b[0;32m    130\u001b[0m     \u001b[39mwith\u001b[39;00m _Tracer(func, \u001b[39m*\u001b[39margs, \u001b[39m*\u001b[39m\u001b[39m*\u001b[39mkwargs):\n\u001b[1;32m--> 131\u001b[0m         result \u001b[39m=\u001b[39m func(\u001b[39m*\u001b[39;49margs, \u001b[39m*\u001b[39;49m\u001b[39m*\u001b[39;49mkwargs)\n\u001b[0;32m    133\u001b[0m     \u001b[39mreturn\u001b[39;00m result\n\u001b[0;32m    135\u001b[0m \u001b[39melse\u001b[39;00m:\n",
      "File \u001b[1;32mc:\\Users\\20202827\\.conda\\envs\\8P370_v2\\lib\\site-packages\\vmbpy\\featurecontainer.py:64\u001b[0m, in \u001b[0;36mFeatureContainer._attach_feature_accessors\u001b[1;34m(self)\u001b[0m\n\u001b[0;32m     61\u001b[0m \u001b[39m@TraceEnable\u001b[39m()\n\u001b[0;32m     62\u001b[0m \u001b[39mdef\u001b[39;00m \u001b[39m_attach_feature_accessors\u001b[39m(\u001b[39mself\u001b[39m):\n\u001b[0;32m     63\u001b[0m     \u001b[39mif\u001b[39;00m \u001b[39mnot\u001b[39;00m \u001b[39mself\u001b[39m\u001b[39m.\u001b[39m__context_cnt:\n\u001b[1;32m---> 64\u001b[0m         \u001b[39mself\u001b[39m\u001b[39m.\u001b[39m_feats \u001b[39m=\u001b[39m discover_features(\u001b[39mself\u001b[39;49m\u001b[39m.\u001b[39;49m_handle)\n\u001b[0;32m     65\u001b[0m         attach_feature_accessors(\u001b[39mself\u001b[39m, \u001b[39mself\u001b[39m\u001b[39m.\u001b[39m_feats)\n\u001b[0;32m     67\u001b[0m     \u001b[39mself\u001b[39m\u001b[39m.\u001b[39m__context_cnt \u001b[39m+\u001b[39m\u001b[39m=\u001b[39m \u001b[39m1\u001b[39m\n",
      "File \u001b[1;32mc:\\Users\\20202827\\.conda\\envs\\8P370_v2\\lib\\site-packages\\vmbpy\\util\\tracer.py:131\u001b[0m, in \u001b[0;36mTraceEnable.__call__.<locals>.wrapper\u001b[1;34m(*args, **kwargs)\u001b[0m\n\u001b[0;32m    129\u001b[0m \u001b[39mif\u001b[39;00m _Tracer\u001b[39m.\u001b[39mis_log_enabled():\n\u001b[0;32m    130\u001b[0m     \u001b[39mwith\u001b[39;00m _Tracer(func, \u001b[39m*\u001b[39margs, \u001b[39m*\u001b[39m\u001b[39m*\u001b[39mkwargs):\n\u001b[1;32m--> 131\u001b[0m         result \u001b[39m=\u001b[39m func(\u001b[39m*\u001b[39;49margs, \u001b[39m*\u001b[39;49m\u001b[39m*\u001b[39;49mkwargs)\n\u001b[0;32m    133\u001b[0m     \u001b[39mreturn\u001b[39;00m result\n\u001b[0;32m    135\u001b[0m \u001b[39melse\u001b[39;00m:\n",
      "File \u001b[1;32mc:\\Users\\20202827\\.conda\\envs\\8P370_v2\\lib\\site-packages\\vmbpy\\feature.py:1209\u001b[0m, in \u001b[0;36mdiscover_features\u001b[1;34m(handle)\u001b[0m\n\u001b[0;32m   1205\u001b[0m     call_vmb_c(\u001b[39m'\u001b[39m\u001b[39mVmbFeaturesList\u001b[39m\u001b[39m'\u001b[39m, handle, feats_infos, feats_count, byref(feats_found),\n\u001b[0;32m   1206\u001b[0m                sizeof(VmbFeatureInfo))\n\u001b[0;32m   1208\u001b[0m     \u001b[39mfor\u001b[39;00m info \u001b[39min\u001b[39;00m feats_infos[:feats_found\u001b[39m.\u001b[39mvalue]:\n\u001b[1;32m-> 1209\u001b[0m         result\u001b[39m.\u001b[39mappend(_build_feature(handle, info))\n\u001b[0;32m   1211\u001b[0m \u001b[39mreturn\u001b[39;00m \u001b[39mtuple\u001b[39m(result)\n",
      "File \u001b[1;32mc:\\Users\\20202827\\.conda\\envs\\8P370_v2\\lib\\site-packages\\vmbpy\\feature.py:1174\u001b[0m, in \u001b[0;36m_build_feature\u001b[1;34m(handle, info)\u001b[0m\n\u001b[0;32m   1171\u001b[0m     feat \u001b[39m=\u001b[39m BoolFeature(handle, info)\n\u001b[0;32m   1173\u001b[0m \u001b[39melif\u001b[39;00m VmbFeatureData\u001b[39m.\u001b[39mEnum \u001b[39m==\u001b[39m feat_value:\n\u001b[1;32m-> 1174\u001b[0m     feat \u001b[39m=\u001b[39m EnumFeature(handle, info)\n\u001b[0;32m   1176\u001b[0m \u001b[39melif\u001b[39;00m VmbFeatureData\u001b[39m.\u001b[39mCommand \u001b[39m==\u001b[39m feat_value:\n\u001b[0;32m   1177\u001b[0m     feat \u001b[39m=\u001b[39m CommandFeature(handle, info)\n",
      "File \u001b[1;32mc:\\Users\\20202827\\.conda\\envs\\8P370_v2\\lib\\site-packages\\vmbpy\\util\\tracer.py:131\u001b[0m, in \u001b[0;36mTraceEnable.__call__.<locals>.wrapper\u001b[1;34m(*args, **kwargs)\u001b[0m\n\u001b[0;32m    129\u001b[0m \u001b[39mif\u001b[39;00m _Tracer\u001b[39m.\u001b[39mis_log_enabled():\n\u001b[0;32m    130\u001b[0m     \u001b[39mwith\u001b[39;00m _Tracer(func, \u001b[39m*\u001b[39margs, \u001b[39m*\u001b[39m\u001b[39m*\u001b[39mkwargs):\n\u001b[1;32m--> 131\u001b[0m         result \u001b[39m=\u001b[39m func(\u001b[39m*\u001b[39;49margs, \u001b[39m*\u001b[39;49m\u001b[39m*\u001b[39;49mkwargs)\n\u001b[0;32m    133\u001b[0m     \u001b[39mreturn\u001b[39;00m result\n\u001b[0;32m    135\u001b[0m \u001b[39melse\u001b[39;00m:\n",
      "File \u001b[1;32mc:\\Users\\20202827\\.conda\\envs\\8P370_v2\\lib\\site-packages\\vmbpy\\feature.py:489\u001b[0m, in \u001b[0;36mEnumFeature.__init__\u001b[1;34m(self, handle, info)\u001b[0m\n\u001b[0;32m    486\u001b[0m \u001b[39m\u001b[39m\u001b[39m\"\"\"Do not call directly. Instead, access Features via System, Camera, or Interface Types.\"\"\"\u001b[39;00m\n\u001b[0;32m    487\u001b[0m \u001b[39msuper\u001b[39m()\u001b[39m.\u001b[39m\u001b[39m__init__\u001b[39m(handle, info)\n\u001b[1;32m--> 489\u001b[0m \u001b[39mself\u001b[39m\u001b[39m.\u001b[39m__entries: EnumEntryTuple \u001b[39m=\u001b[39m _discover_enum_entries(\u001b[39mself\u001b[39;49m\u001b[39m.\u001b[39;49m_handle, \u001b[39mself\u001b[39;49m\u001b[39m.\u001b[39;49m_info\u001b[39m.\u001b[39;49mname)\n",
      "File \u001b[1;32mc:\\Users\\20202827\\.conda\\envs\\8P370_v2\\lib\\site-packages\\vmbpy\\util\\tracer.py:131\u001b[0m, in \u001b[0;36mTraceEnable.__call__.<locals>.wrapper\u001b[1;34m(*args, **kwargs)\u001b[0m\n\u001b[0;32m    129\u001b[0m \u001b[39mif\u001b[39;00m _Tracer\u001b[39m.\u001b[39mis_log_enabled():\n\u001b[0;32m    130\u001b[0m     \u001b[39mwith\u001b[39;00m _Tracer(func, \u001b[39m*\u001b[39margs, \u001b[39m*\u001b[39m\u001b[39m*\u001b[39mkwargs):\n\u001b[1;32m--> 131\u001b[0m         result \u001b[39m=\u001b[39m func(\u001b[39m*\u001b[39;49margs, \u001b[39m*\u001b[39;49m\u001b[39m*\u001b[39;49mkwargs)\n\u001b[0;32m    133\u001b[0m     \u001b[39mreturn\u001b[39;00m result\n\u001b[0;32m    135\u001b[0m \u001b[39melse\u001b[39;00m:\n",
      "File \u001b[1;32mc:\\Users\\20202827\\.conda\\envs\\8P370_v2\\lib\\site-packages\\vmbpy\\feature.py:594\u001b[0m, in \u001b[0;36m_discover_enum_entries\u001b[1;34m(handle, feat_name)\u001b[0m\n\u001b[0;32m    591\u001b[0m result \u001b[39m=\u001b[39m []\n\u001b[0;32m    592\u001b[0m enums_count \u001b[39m=\u001b[39m VmbUint32(\u001b[39m0\u001b[39m)\n\u001b[1;32m--> 594\u001b[0m call_vmb_c(\u001b[39m'\u001b[39;49m\u001b[39mVmbFeatureEnumRangeQuery\u001b[39;49m\u001b[39m'\u001b[39;49m, handle, feat_name, \u001b[39mNone\u001b[39;49;00m, \u001b[39m0\u001b[39;49m, byref(enums_count))\n\u001b[0;32m    596\u001b[0m \u001b[39mif\u001b[39;00m enums_count\u001b[39m.\u001b[39mvalue:\n\u001b[0;32m    597\u001b[0m     enums_found \u001b[39m=\u001b[39m VmbUint32(\u001b[39m0\u001b[39m)\n",
      "File \u001b[1;32mc:\\Users\\20202827\\.conda\\envs\\8P370_v2\\lib\\site-packages\\vmbpy\\util\\tracer.py:131\u001b[0m, in \u001b[0;36mTraceEnable.__call__.<locals>.wrapper\u001b[1;34m(*args, **kwargs)\u001b[0m\n\u001b[0;32m    129\u001b[0m \u001b[39mif\u001b[39;00m _Tracer\u001b[39m.\u001b[39mis_log_enabled():\n\u001b[0;32m    130\u001b[0m     \u001b[39mwith\u001b[39;00m _Tracer(func, \u001b[39m*\u001b[39margs, \u001b[39m*\u001b[39m\u001b[39m*\u001b[39mkwargs):\n\u001b[1;32m--> 131\u001b[0m         result \u001b[39m=\u001b[39m func(\u001b[39m*\u001b[39;49margs, \u001b[39m*\u001b[39;49m\u001b[39m*\u001b[39;49mkwargs)\n\u001b[0;32m    133\u001b[0m     \u001b[39mreturn\u001b[39;00m result\n\u001b[0;32m    135\u001b[0m \u001b[39melse\u001b[39;00m:\n",
      "File \u001b[1;32mc:\\Users\\20202827\\.conda\\envs\\8P370_v2\\lib\\site-packages\\vmbpy\\c_binding\\vmb_c.py:891\u001b[0m, in \u001b[0;36mcall_vmb_c\u001b[1;34m(func_name, *args)\u001b[0m\n\u001b[0;32m    823\u001b[0m \u001b[39m\u001b[39m\u001b[39m\"\"\"This function encapsulates the entire VmbC access.\u001b[39;00m\n\u001b[0;32m    824\u001b[0m \n\u001b[0;32m    825\u001b[0m \u001b[39mFor Details on valid function signatures see the 'VmbC.h'.\u001b[39;00m\n\u001b[1;32m   (...)\u001b[0m\n\u001b[0;32m    888\u001b[0m \u001b[39m    VmbChunkDataAccess\u001b[39;00m\n\u001b[0;32m    889\u001b[0m \u001b[39m\"\"\"\u001b[39;00m\n\u001b[0;32m    890\u001b[0m \u001b[39mglobal\u001b[39;00m _lib_instance\n\u001b[1;32m--> 891\u001b[0m \u001b[39mgetattr\u001b[39;49m(_lib_instance, func_name)(\u001b[39m*\u001b[39;49margs)\n",
      "File \u001b[1;32mc:\\Users\\20202827\\.conda\\envs\\8P370_v2\\lib\\site-packages\\vmbpy\\c_binding\\vmb_c.py:815\u001b[0m, in \u001b[0;36m_eval_vmberror\u001b[1;34m(result, func, *args)\u001b[0m\n\u001b[0;32m    813\u001b[0m \u001b[39mdef\u001b[39;00m \u001b[39m_eval_vmberror\u001b[39m(result: VmbError, func: Callable[\u001b[39m.\u001b[39m\u001b[39m.\u001b[39m\u001b[39m.\u001b[39m, Any], \u001b[39m*\u001b[39margs: Tuple[Any, \u001b[39m.\u001b[39m\u001b[39m.\u001b[39m\u001b[39m.\u001b[39m]):\n\u001b[0;32m    814\u001b[0m     \u001b[39mif\u001b[39;00m result \u001b[39mnot\u001b[39;00m \u001b[39min\u001b[39;00m (VmbError\u001b[39m.\u001b[39mSuccess, \u001b[39mNone\u001b[39;00m):\n\u001b[1;32m--> 815\u001b[0m         \u001b[39mraise\u001b[39;00m VmbCError(result)\n",
      "\u001b[1;31mVmbCError\u001b[0m: VmbCError(<VmbError.InternalFault: -1>)"
     ]
    }
   ],
   "source": [
    "import cv2\n",
    "from vmbpy import *\n",
    "\n",
    "with VmbSystem.get_instance () as vmb:\n",
    "    cams = vmb.get_all_cameras ()\n",
    "    print(cams)\n",
    "    print(cams[0])\n",
    "\n",
    "    with cams[0] as cam:\n",
    "        frame = cam.get_frame ()\n",
    "        frame.convert_pixel_format(PixelFormat.Mono8)\n",
    "        cv2.imwrite('frame.jpg', frame.as_opencv_image ())"
   ]
  },
  {
   "cell_type": "markdown",
   "metadata": {},
   "source": [
    "\n",
    "### ArduCam\n",
    "The easiest way to access the camera is through the build-in windows camera app. You will have to switch cameras as the default it your laptops webcam. <br>\n",
    "\n",
    "The following code shows how to capture and save an image. \n",
    "ArduCam Spec Sheet: https://www.arducam.com/product/b0196arducam-8mp-1080p-usb-camera-module-1-4-cmos-imx219-mini-uvc-usb2-0-webcam-board-with-1-64ft-0-5m-usb-cable-for-windows-linux-android-and-mac-os/\n",
    "\n",
    "<img src=\"img/arducam.jpg\" alt=\"Alied Vision Camera\" style=\"width: 250px; margin-right: 20px;\">\n",
    "\n",
    "#### Commands to install the OpenCV Library\n",
    "```python\n",
    "pip install opencv-python\n",
    "```"
   ]
  },
  {
   "cell_type": "code",
   "execution_count": 1,
   "metadata": {},
   "outputs": [],
   "source": [
    "# import the opencv library \n",
    "import cv2 \n",
    "\n",
    "# define a video capture object \n",
    "vid = cv2.VideoCapture(0) \n",
    "\n",
    "#Filepath where image is written\n",
    "file_path = \"ArduCam\\\\\"\n",
    "\n",
    "while(True): \n",
    "\n",
    "    # Capture the video frame \n",
    "    # by frame \n",
    "    ret, frame = vid.read() \n",
    "\n",
    "    # Display the resulting frame \n",
    "    cv2.imshow('frame', frame) \n",
    "\n",
    "    #cv2.imwrite(file_path, frame)\n",
    "\n",
    "    # the 'q' button is set as the \n",
    "    # quitting button you may use any \n",
    "    # desired button of your choice \n",
    "    if cv2.waitKey(1) & 0xFF == ord('q'): \n",
    "        break\n",
    "\n",
    "# After the loop release the cap object \n",
    "vid.release() \n",
    "# Destroy all the windows \n",
    "cv2.destroyAllWindows()"
   ]
  },
  {
   "cell_type": "markdown",
   "metadata": {},
   "source": [
    "# Delta Stage\n",
    "\n",
    "The motorised delta requires a coordinate system transform. This is explained in the following openflexure forum thread:\n",
    "https://openflexure.discourse.group/t/delta-stage-geometry/628/2. Take note that before excecuting this code, you should setup the motors with ESP32.motor.set_motor() like was done for the z-stage.\n",
    "\n",
    "\n",
    "\n"
   ]
  },
  {
   "cell_type": "code",
   "execution_count": null,
   "metadata": {},
   "outputs": [],
   "source": [
    "# Example of how to power the delta stage motors\n",
    "Z_change_up = 100000\n",
    "Z_change_down = -100000\n",
    "\n",
    "ESP32.motor.move_xyz(\n",
    "    steps=(Z_change_up,Z_change_up,Z_change_up), \n",
    "    speed=(10000,10000,10000), \n",
    "    acceleration=None, \n",
    "    is_blocking=False, \n",
    "    is_absolute=False, \n",
    "    is_enabled=True\n",
    "    )\n",
    "\n",
    "time.sleep(1) \n",
    "\n",
    "ESP32.motor.move_xyz(\n",
    "    steps=(Z_change_down,Z_change_down,Z_change_down), \n",
    "    speed=(10000,10000,10000), \n",
    "    acceleration=None, \n",
    "    is_blocking=False, \n",
    "    is_absolute=False, \n",
    "    is_enabled=True\n",
    "    )"
   ]
  },
  {
   "cell_type": "code",
   "execution_count": 26,
   "metadata": {},
   "outputs": [],
   "source": [
    "# Convert coordinates\n",
    "def convert_coordinates(x, y, z, camera_angle=0):\n",
    "    \"\"\"\n",
    "    Transform Cartesian coordinates to input values for a delta stage.\n",
    "\n",
    "    Parameters:\n",
    "    - x (float): X-coordinate.\n",
    "    - y (float): Y-coordinate.\n",
    "    - z (float): Z-coordinate.\n",
    "    - camera_angle (float, optional): Angle of camera rotation relative to the stage in degrees (default is 0).\n",
    "\n",
    "    Returns:\n",
    "    - Tuple[int, int, int]: Transformed delta stage coordinates rounded to the nearest integer.\n",
    "\n",
    "    This function takes Cartesian coordinates (x, y, z) and converts them to input values\n",
    "    suitable for a delta stage. It incorporates a camera rotation relative to the stage\n",
    "    specified by the `camera_angle`. The resulting coordinates are rounded to the nearest integer.\n",
    "    \"\"\"\n",
    "    \n",
    "    # Make array from cartesian coordinates\n",
    "    cartesian_coordinates = np.array([x, y, z])\n",
    "\n",
    "    # Setup parameters for conversion (might need adjustment)\n",
    "    flex_h = 70\n",
    "    flex_a = 35\n",
    "    flex_b = 47\n",
    "    \n",
    "    # Set up camera rotation relative to stage\n",
    "    camera_theta = (camera_angle / 180) * np.pi\n",
    "    R_camera = np.array([\n",
    "        [np.cos(camera_theta), -np.sin(camera_theta), 0],\n",
    "        [np.sin(camera_theta), -np.cos(camera_theta), 0],\n",
    "        [0, 0, 1]\n",
    "    ])                \n",
    "\n",
    "    # Transformation matrix converting delta into cartesian\n",
    "    x_fac = -1 * np.multiply(np.divide(2, np.sqrt(3)), np.divide(flex_b, flex_h))\n",
    "    y_fac = -1 * np.divide(flex_b, flex_h)\n",
    "    z_fac = np.multiply(np.divide(1, 3), np.divide(flex_b, flex_a))\n",
    "\n",
    "    Tvd = np.array([\n",
    "        [-x_fac, x_fac, 0],\n",
    "        [0.5 * y_fac, 0.5 * y_fac, -y_fac],\n",
    "        [z_fac, z_fac, z_fac]\n",
    "    ])\n",
    "\n",
    "    # Transform coordinates\n",
    "    delta_coordinates = np.linalg.inv(Tvd) @ R_camera @ cartesian_coordinates\n",
    "    delta_coordinates = np.round(delta_coordinates).astype(int)\n",
    "\n",
    "    # print(\"Delta Coordinates:\", delta_coordinates)\n",
    "\n",
    "    return delta_coordinates[0], delta_coordinates[1], delta_coordinates[2]\n",
    "\n",
    "\n",
    "delta_coordinates = convert_coordinates(x=0, y=10000, z=0, camera_angle=45)"
   ]
  },
  {
   "cell_type": "code",
   "execution_count": null,
   "metadata": {},
   "outputs": [],
   "source": [
    "delta_coordinates = convert_coordinates(x=0, y=10000, z=0)\n",
    "\n",
    "ESP32.motor.move_xyz(\n",
    "    steps=(delta_coordinates[0], delta_coordinates[1], delta_coordinates[2]),\n",
    "    speed=(10000, 10000, 10000),\n",
    "    acceleration=None,\n",
    "    is_blocking=False,\n",
    "    is_absolute=False,\n",
    "    is_enabled=True\n",
    ")"
   ]
  },
  {
   "cell_type": "markdown",
   "metadata": {},
   "source": [
    "# TROUBLESHOOTING\n",
    "Once the `ESP32 = uc2.UC2Client(serialport=serialport)` command is executed, within the current kernel, the ESP32 class is available. To close this the port needs to be closed with .close(). If you reattept to run the command again, it will provide a error such as: \n",
    "```python\n",
    "PermissionError(13, 'Access is denied.', None, 5)\n",
    "``` \n",
    "As two instances are not possible. Please restart the kernel to proceed. If anything else goes wrong, also just restart the kernel. For the permission error, it is also likely that another program or kernel is running and has the com port opened. For example a program such as Ultimaker CURA or Arduino IDE is likely to interfere with UC2, therefore close it and disable opening the program on startup in the task manager (for convenience). \n",
    "\n",
    "```python\n",
    "FileNotFoundError(2, 'The system cannot find the file specified.', None, 2)\n",
    "``` \n",
    "For a not found error it is likely that the COM port is wrong (or usb not connected properly). \n",
    "\n",
    "There are several things that limit the board from being connected correctly to your laptop/pc. The first thing to check is if you have the correct drivers installed: https://www.silabs.com/developers/usb-to-uart-bridge-vcp-drivers?tab=downloads\n",
    "\n",
    "Next check if you are using the correct cable, and if it shows up in the device manager. \n",
    "\n",
    "\n",
    "\n",
    "Also check that you are using the correct com port (as seen in the device manager.)\n",
    "\n",
    "To check if the hardware works correctly it is also possible to check using https://youseetoo.github.io/indexWebSerialTest.html. This will ask in the browser to connect to the UC2 controller board and if a Z-stage motor or LED ring is correctly connected to the right port (labelled on the pcb) then you should be able to control them. \n",
    "\n",
    "Sometimes `pip UC2-REST --force-reinstall --user` will cause the code to execute properly. Feel free to try this. Remember to first activate your env 8P370 in anaconda (or other env manager).\n"
   ]
  },
  {
   "cell_type": "code",
   "execution_count": null,
   "metadata": {},
   "outputs": [],
   "source": [
    "#Try to manually open the serial port to check if this works. \n",
    "# import serial\n",
    "# import time\n",
    "# c = serial.Serial('COM76', 9600)\n",
    "# counter = 0\n",
    "# while True:\n",
    "#     signal = c.read()\n",
    "#     print(\"running\")\n",
    "#     print(signal)\n",
    "#     time.sleep(0.1)\n",
    "#     c.flushOutput()\n",
    "#     counter +=1\n",
    "#     if counter == 10:\n",
    "#         c.close()\n",
    "#         break"
   ]
  }
 ],
 "metadata": {
  "kernelspec": {
   "display_name": "microscopy",
   "language": "python",
   "name": "python3"
  },
  "language_info": {
   "codemirror_mode": {
    "name": "ipython",
    "version": 3
   },
   "file_extension": ".py",
   "mimetype": "text/x-python",
   "name": "python",
   "nbconvert_exporter": "python",
   "pygments_lexer": "ipython3",
   "version": "3.8.18"
  },
  "orig_nbformat": 4
 },
 "nbformat": 4,
 "nbformat_minor": 2
}
