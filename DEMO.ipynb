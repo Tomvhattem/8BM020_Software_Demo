{
 "cells": [
  {
   "cell_type": "markdown",
   "metadata": {},
   "source": [
    "## Imswitch/UC2-REST DEMO for 8P370 CBL Microscopy\n",
    "\n",
    "**By Marcus Vroemen and Tom van Hattem**\n",
    "\n",
    "*Using the open UC2 Rest and Imswitch Software*\n",
    "\n",
    "This tutorial and demo will shows you how to get started with Imswitch and UC2 in Python. Imswitch is a software package that allows the creation of graphical user interfaces (GUIs) and interact with our hardware, the open UC2 Controller Board to turn on LED matrices or control the motors. The board itself will not handle cameras, these will usually be handled over USB. Most online tutorials will show you. how to flash the boards. This should already be done on the controller boards, but if not they can easily be reflashed with help of this page: https://youseetoo.github.io/ <br>\n",
    "But before reflashing your computer will require drivers to see the controller board. If the official openUC2 boards are used with a ESP32-WROOM-32D controller and shield, you will need the CP210x drivers: https://www.silabs.com/developers/usb-to-uart-bridge-vcp-drivers?tab=downloads\n",
    "It is recommended to use Visual Studio Code or PyCharm, although Spyder is also possible (but please don't). <br>\n",
    "\n",
    "IMPORTANT: Do not attempt to use the motors without an external power supply. Powering over USB will most certainly not work/damage your computer.\n",
    "\n",
    "*Sidenote: also ensure that you are using a data cable. Charging micro usb cables will not be able to interact with the controller board. <br>*\n",
    "\n",
    "Let's get started. First we need to configure the python environment\n"
   ]
  },
  {
   "cell_type": "markdown",
   "metadata": {},
   "source": [
    "### Python Environment Configuration\n",
    "\n",
    "\n"
   ]
  },
  {
   "cell_type": "markdown",
   "metadata": {},
   "source": [
    "1. Create a new Python environment called `8P370`. Do this within the Anaconda command prompt, run:\n"
   ]
  },
  {
   "cell_type": "markdown",
   "metadata": {},
   "source": [
    "```python\n",
    "conda create --name 8P370 python=3.8\n",
    "```"
   ]
  },
  {
   "cell_type": "markdown",
   "metadata": {},
   "source": [
    "2. Make sure to activate the `8P370` environment before proceeding to install pacakges with the following command:\n"
   ]
  },
  {
   "cell_type": "markdown",
   "metadata": {},
   "source": [
    "```python\n",
    "conda activate 8P370\n",
    "```"
   ]
  },
  {
   "cell_type": "markdown",
   "metadata": {},
   "source": [
    "\n",
    "\n",
    "3. Next, install `UC2-REST` and `ImSwitch`  packages (and other packages you might need at the place of <...>) with `pip` using the following command:"
   ]
  },
  {
   "cell_type": "markdown",
   "metadata": {},
   "source": [
    "```python\n",
    "python3 -m pip install -U pip\n",
    "pip install UC2-REST --user\n",
    "pip install ImSwitchUC2==0.2.0.14\n",
    "pip install ipykernel \n",
    "pip install opencv-python numpy [Note: not required but recommeded]\n",
    "pip install <...>             \n",
    "```"
   ]
  },
  {
   "cell_type": "markdown",
   "metadata": {},
   "source": [
    "Hint: Make sure to only use `pip` from now on. Do not mix `pip` with `conda install`. Trust me."
   ]
  },
  {
   "cell_type": "markdown",
   "metadata": {},
   "source": [
    "###  Basic Python Code to control the microscope"
   ]
  },
  {
   "cell_type": "markdown",
   "metadata": {},
   "source": [
    "To use python code to control the microscope, we need to communicate with the UC2 Controller board. This is a USB connection through COM ports. In Windows open the device manager, under Ports(COM&LPT) when the board is connected it should show `Silicon Labs CP210x USB to UART Bridge (COM4)`. COM4 could be a different port but by default it usually is 3 or 4. Change in the next code block the serialport to your COM port. It has to be a string."
   ]
  },
  {
   "cell_type": "code",
   "execution_count": 1,
   "metadata": {},
   "outputs": [],
   "source": [
    "%reload_ext autoreload \n",
    "%autoreload 2\n",
    "\n",
    "#Import necessary libraries\n",
    "import uc2rest as uc2\n",
    "import numpy as np \n",
    "import time"
   ]
  },
  {
   "cell_type": "code",
   "execution_count": 2,
   "metadata": {},
   "outputs": [
    {
     "name": "stdout",
     "output_type": "stream",
     "text": [
      "Using API version 2\n",
      "Attention, lasers are on channels 1,2,3\n",
      "{'identifier_name': 'UC2_Feather', 'identifier_id': 'V2.0', 'identifier_date': 'Sep  7 202316:32:04', 'identifier_author': 'BD', 'IDENTIFIER_NAME': 'uc2-esp', 'configIsSet': 0, 'pindef': 'UC2_2', 'qid': 4}\n"
     ]
    }
   ],
   "source": [
    "\"\"\"Open communication with the UC2 Controller Board\n",
    "#The log should print '{identifier_name:... etc.}'. If you restart the kernel please rerun this script\n",
    "to ensure a com port connection has been established and is available to use. If only the state is printed \n",
    "it is likely that you have already run this code and the connection is still available in the kernel.\n",
    "\"\"\"\n",
    "\n",
    "serialport = \"COM76\" # for Windows - change accordingly\n",
    "#serialport = \"/dev/cu.SLAB_USBtoUART\" # for MAC change accordingly\n",
    "#serialport = \"/dev/cu.wchusbserial110\" # for MAC change accordingly\n",
    "\n",
    "if 'ESP32' not in locals():\n",
    "    ESP32 = uc2.UC2Client(serialport=serialport)\n",
    "_state = ESP32.state.get_state()\n",
    "print(_state)"
   ]
  },
  {
   "cell_type": "markdown",
   "metadata": {},
   "source": [
    "# LED MATRIX\n",
    "\n",
    "Now that we have initialized the COM port and UC2 controller we can test the LED matrix. Connect it to the LED1 port.\n",
    "\n",
    "<img src=\"img//IMG20230926153841.jpg\" alt=\"alt text\" width=\"500\"/>"
   ]
  },
  {
   "cell_type": "code",
   "execution_count": 14,
   "metadata": {},
   "outputs": [
    {
     "name": "stdout",
     "output_type": "stream",
     "text": [
      "The LED pin is: {'ledArrNum': 64, 'ledArrPin': 32, 'led_ison': 0, 'qid': 54, 'LEDArrMode': [0, 1, 2, 3, 4, 5, 6, 7]}\n"
     ]
    },
    {
     "data": {
      "text/plain": [
       "{'success': 1}"
      ]
     },
     "execution_count": 14,
     "metadata": {},
     "output_type": "execute_result"
    },
    {
     "name": "stdout",
     "output_type": "stream",
     "text": [
      "ClearCommError failed (PermissionError(13, 'Access is denied.', None, 5))\n"
     ]
    }
   ],
   "source": [
    "# test LED\n",
    "print(\"The LED pin is: \"+str(ESP32.led.get_ledpin()))\n",
    "time.sleep(2)\n",
    "ESP32.led.send_LEDMatrix_full(intensity=(255, 255, 255))\n",
    "time.sleep(2.5)\n",
    "ESP32.led.send_LEDMatrix_full(intensity=(0, 0, 0))"
   ]
  },
  {
   "cell_type": "markdown",
   "metadata": {},
   "source": [
    "# Initializing and Moving the motors\n",
    "Now lets connect the z-stage. Make sure to connect the external power supply, please don't blow up your usb ports. \n",
    "\n",
    "The following code snippets will help you moving the motors (XYZ) continously or at a known number of steps at a certain speed level (all measured in steps/s). <br>\n",
    "**In general:** The axes are: \n",
    "A => 0\n",
    "X => 1\n",
    "Y => 2\n",
    "Z => 3\n",
    "\n",
    "The pin configuration for the uc2 board can be found at: https://youseetoo.github.io/\n",
    "\n",
    "For the Z-stage:\n",
    "\n",
    "<img src=\"img//IMG20230926161544.jpg\" alt=\"alt text\" width=\"350\"/>"
   ]
  },
  {
   "cell_type": "code",
   "execution_count": 4,
   "metadata": {},
   "outputs": [],
   "source": [
    "# we don't want to change the configuration now\n",
    "# OR setup motors individually (according to WEMOS R32 D1)\n",
    "if 0:\n",
    "    ESP32.motor.set_motor(stepperid = 1, position = 0, stepPin = 26, dirPin=16, enablePin=12, maxPos=None, minPos=None, acceleration=None, isEnable=1)\n",
    "    ESP32.motor.set_motor(stepperid = 2, position = 0, stepPin = 25, dirPin=27, enablePin=12, maxPos=None, minPos=None, acceleration=None, isEnable=1)\n",
    "    ESP32.motor.set_motor(stepperid = 3, position = 0, stepPin = 17, dirPin=14, enablePin=12, maxPos=None, minPos=None, acceleration=None, isEnable=1)\n",
    "    ESP32.motor.set_motor(stepperid = 0, position = 0, stepPin = 19, dirPin=18, enablePin=12, maxPos=None, minPos=None, acceleration=None, isEnable=1)\n",
    "\n",
    "\n",
    "#ESP32.motor.set_motor(stepperid = 1, position = 0, stepPin = 2, dirPin=33, enablePin=13, maxPos=None, minPos=None, acceleration=None, isEnable=1)\n",
    "#ESP32.motor.set_motor(stepperid = 0, position = 0, stepPin = 22, dirPin=21, enablePin=13, maxPos=None, minPos=None, acceleration=None, isEnable=1)\n",
    "#ESP32.motor.set_motor(stepperid = 3, position = 0, stepPin = 12, dirPin=14, enablePin=13, maxPos=None, minPos=None, acceleration=None, isEnable=1)"
   ]
  },
  {
   "cell_type": "markdown",
   "metadata": {},
   "source": [
    "This pin configuration also can be reset to default values. For more information on the build in functions see this UC2-REST notebook: https://github.com/openUC2/UC2-REST/blob/master/DOCUMENTATION/DOC_UC2Client-PinConfigurator.ipynb\n",
    "\n"
   ]
  },
  {
   "cell_type": "code",
   "execution_count": 11,
   "metadata": {},
   "outputs": [
    {
     "name": "stdout",
     "output_type": "stream",
     "text": [
      "[     0.      0.      0. -29300.]\n",
      "[     0.      0.      0. -29300.]\n"
     ]
    }
   ],
   "source": [
    "position1 = ESP32.motor.get_position(timeout=1)\n",
    "print(position1)\n",
    "\n",
    "ESP32.motor.move_z(steps=-10000, speed=5000, is_blocking=True)\n",
    "ESP32.motor.move_z(steps=10000, speed=5000, is_blocking=True)\n",
    "\n",
    "ESP32.motor.move_z(steps=-10000, speed=10000, is_blocking=True)\n",
    "ESP32.motor.move_z(steps=10000, speed=10000, is_blocking=True)\n",
    "\n",
    "ESP32.motor.move_z(steps=-10000, speed=100000, is_blocking=True)\n",
    "ESP32.motor.move_z(steps=10000, speed=100000, is_blocking=True)\n",
    "\n",
    "time.sleep(1) \n",
    "\n",
    "position2 = ESP32.motor.get_position(timeout=1)\n",
    "print(position2)"
   ]
  },
  {
   "cell_type": "markdown",
   "metadata": {},
   "source": [
    "The ESP32 object will keep an connection to the board open until you reset the kernel or disconnect the USB. To close the connection with the software please use the command below. "
   ]
  },
  {
   "cell_type": "code",
   "execution_count": 20,
   "metadata": {},
   "outputs": [],
   "source": [
    "ESP32.close()"
   ]
  },
  {
   "cell_type": "markdown",
   "metadata": {},
   "source": [
    "A more extensive tutorial on the different features can be found in the official UC2-REST git: https://github.com/openUC2/UC2-REST/blob/master/DOCUMENTATION/DOC_UC2Client.ipynb"
   ]
  },
  {
   "cell_type": "markdown",
   "metadata": {},
   "source": [
    "# IMSWITCH\n",
    "\n",
    "So far we have only used UC2-REST, but we can also use IMSWITCH. IMSWITCH provides a nice user interface. It is easiest to install a new environment. You can follow the commands below in anaconda cmd or in a build in environment (but the conda should be in PATH). The commands first clone the openuc2 fork of imswitch, then install a new environment based on the requirements from the fork, then downloads config files from Ben (one of the creators of openUC2). These config files should be located in your documents folder. "
   ]
  },
  {
   "cell_type": "markdown",
   "metadata": {},
   "source": [
    "\n",
    "```python\n",
    "cd %HOMEPATH%\\Documents\n",
    "git clone https://github.com/openUC2/ImSwitch/\n",
    "cd ImSwitch\n",
    "\n",
    "conda create -n imswitch python=3.9 -y\n",
    "conda activate imswitch\n",
    "pip install -r requirements.txt --user\n",
    "\n",
    "cd %HOMEPATH%\\Documents\n",
    "```"
   ]
  },
  {
   "cell_type": "markdown",
   "metadata": {},
   "source": [
    "\n",
    "Note: if there is a folder called ImSwitchConfig => rename it!"
   ]
  },
  {
   "cell_type": "markdown",
   "metadata": {},
   "source": [
    "```python\t\n",
    "git clone https://github.com/beniroquai/ImSwitchConfig\n",
    "```"
   ]
  },
  {
   "cell_type": "markdown",
   "metadata": {},
   "source": [
    "To start imswitch use this command in the cmd line.\n",
    "```python\n",
    "imswitch\n",
    "```\n",
    "\n",
    "Work In Progress, more documentation coming soon."
   ]
  },
  {
   "cell_type": "markdown",
   "metadata": {},
   "source": [
    "# Manual Camera Control\n",
    "Camera control can be achieved within python and with external software. Different setups require different cameras and software needs. For most automation tasks it is likely needed to access the camera within python. For other programs it might be easier to access through an external application."
   ]
  },
  {
   "cell_type": "markdown",
   "metadata": {},
   "source": [
    "### Alied Vision 1800 U-158M Camera\n",
    "The Alied Vision camera is meant for fluorescence detection due to high sensitivity. The software used for the Alied Vision Camera is VimbaX. The software [`VimbaX_Setup-2023-1-Win64.exe`] can be found on this page: https://www.alliedvision.com/en/products/software/vimba-x-sdk/ This should install a program called Vimba X Viewer, which you can use to view the camera. Within the viewer use Camera>Freerun command to activate the camera (or use CTRL+F)\n",
    "\n",
    "<img src=\"img/AV-cam.jpg\" alt=\"Alied Vision Camera\" style=\"width: 250px; margin-right: 20px;\">\n",
    "\n",
    "This SDK by default installs in C:\\Program Files. Within the installation we need the path to the python wheel file which can be found here: `C:\\Program Files\\Allied Vision\\Vimba X\\api\\python`. Within the anaconda prompt (or another cmd with python envs active) we change the directory to the Vimba Install directory and install from the .whl file with the following commands:\n",
    "\n",
    "```python\n",
    "cd \"C:\\\\Program Files\\\\Allied Vision\\\\Vimba X\\\\api\\\\python\"\n",
    "pip install vmbpy-1.0.2-py3-none-any.whl\n",
    "```\n",
    "\n",
    "Further documentation can be found at: https://docs.alliedvision.com/Vimba_X/Vimba_X_DeveloperGuide/pythonAPIManual.html#compatibility"
   ]
  },
  {
   "cell_type": "code",
   "execution_count": null,
   "metadata": {},
   "outputs": [],
   "source": [
    "#Test to see if the camera is now available. \n",
    "from vmbpy import *\n",
    "with VmbSystem.get_instance () as vmb:\n",
    "    cams = vmb.get_all_cameras ()"
   ]
  },
  {
   "cell_type": "markdown",
   "metadata": {},
   "source": [
    "\n",
    "### ArduCam\n",
    "The easiest way to access the camera is through the build-in windows camera app. You will have to switch cameras as the default it your laptops webcam.\n",
    "<img src=\"img/arducam.jpg\" alt=\"Alied Vision Camera\" style=\"width: 250px; margin-right: 20px;\">\n",
    "\n",
    "The full documentation of the Python Library needed to control the ArduCam can be found here: https://docs.arducam.com/USB-Industrial-Camera/Quick-Start-Guide/Software-SDK-and-API-for-Windows/Software-SDK-and-API-for-Python/\n",
    "\n",
    "#### Drivers on Windows\n",
    "\n",
    "1. [Download Driver](https://github.com/ArduCAM/ArduCAM_USB_Camera_Shield/releases/download/install_drivers/install_USB_Camera_Drivers.zip)\n",
    "2. Unzip the package.\n",
    "3. Double-click the install_Drivers.bat file in the execution package. [The .bat file could trigger windows security to not run from unknown sources, this is fine, please proceed. ]\n",
    "\n",
    "#### Commands to install the Arducam Library\n",
    "```python\n",
    "pip install arducam_config_parser ArducamSDK\n",
    "pip install opencv-python\n",
    "```"
   ]
  },
  {
   "cell_type": "code",
   "execution_count": 2,
   "metadata": {},
   "outputs": [
    {
     "name": "stderr",
     "output_type": "stream",
     "text": [
      "Traceback (most recent call last):\n",
      "  File \"ArduCam//ArduCam_Demo.py\", line 6, in <module>\n",
      "    from Arducam import *\n",
      "  File \"c:\\Users\\20202827\\OneDrive - TU Eindhoven\\Modules\\Jaar 3\\Q4\\TA - CBL Microscopy\\8P370_Imswitch_DEMO-1\\ArduCam\\Arducam.py\", line 3, in <module>\n",
      "    import ArducamSDK\n",
      "ModuleNotFoundError: No module named 'ArducamSDK'\n"
     ]
    }
   ],
   "source": [
    "!python3 ArduCam//ArduCam_Demo.py --config-file=\"OV5647_MIPI_2Lane_RAW8_8b_2592x1944_8fps.cfg\""
   ]
  },
  {
   "cell_type": "markdown",
   "metadata": {},
   "source": [
    "# Delta Stage\n",
    "\n",
    "The motorised delta requires a coordinate system transform. This is explained in the following openflexure forum thread:\n",
    "https://openflexure.discourse.group/t/delta-stage-geometry/628/2\n",
    "\n"
   ]
  },
  {
   "cell_type": "markdown",
   "metadata": {},
   "source": [
    "# TROUBLESHOOTING\n",
    "Once the `ESP32 = uc2.UC2Client(serialport=serialport)` command is executed, within the current kernel, the ESP32 class is available. To close this the port needs to be closed with .close(). If you reattept to run the command again, it will provide a error such as: \n",
    "```python\n",
    "PermissionError(13, 'Access is denied.', None, 5)\n",
    "``` \n",
    "As two instances are not possible. Please restart the kernel to proceed. If anything else goes wrong, also just restart the kernel. For the permission error, it is also likely that another program or kernel is running and has the com port opened. For example a program such as Ultimaker CURA or Arduino IDE is likely to interfere with UC2, therefore close it and disable opening the program on startup in the task manager (for convenience). \n",
    "\n",
    "```python\n",
    "FileNotFoundError(2, 'The system cannot find the file specified.', None, 2)\n",
    "``` \n",
    "For a not found error it is likely that the COM port is wrong (or usb not connected properly). \n",
    "\n",
    "There are several things that limit the board from being connected correctly to your laptop/pc. The first thing to check is if you have the correct drivers installed: https://www.silabs.com/developers/usb-to-uart-bridge-vcp-drivers?tab=downloads\n",
    "\n",
    "Next check if you are using the correct cable, and if it shows up in the device manager. \n",
    "\n",
    "\n",
    "\n",
    "Also check that you are using the correct com port (as seen in the device manager.)\n",
    "\n",
    "To check if the hardware works correctly it is also possible to check using https://youseetoo.github.io/indexWebSerialTest.html. This will ask in the browser to connect to the UC2 controller board and if a Z-stage motor or LED ring is correctly connected to the right port (labelled on the pcb) then you should be able to control them. \n",
    "\n",
    "Sometimes `pip UC2-REST --force-reinstall --user` will cause the code to execute properly. Feel free to try this. Remember to first activate your env 8P370 in anaconda (or other env manager).\n"
   ]
  },
  {
   "cell_type": "code",
   "execution_count": null,
   "metadata": {},
   "outputs": [],
   "source": [
    "#Try to manually open the serial port to check if this works. \n",
    "# import serial\n",
    "# import time\n",
    "# c = serial.Serial('COM76', 9600)\n",
    "# counter = 0\n",
    "# while True:\n",
    "#     signal = c.read()\n",
    "#     print(\"running\")\n",
    "#     print(signal)\n",
    "#     time.sleep(0.1)\n",
    "#     c.flushOutput()\n",
    "#     counter +=1\n",
    "#     if counter == 10:\n",
    "#         c.close()\n",
    "#         break"
   ]
  }
 ],
 "metadata": {
  "kernelspec": {
   "display_name": "microscopy",
   "language": "python",
   "name": "python3"
  },
  "language_info": {
   "codemirror_mode": {
    "name": "ipython",
    "version": 3
   },
   "file_extension": ".py",
   "mimetype": "text/x-python",
   "name": "python",
   "nbconvert_exporter": "python",
   "pygments_lexer": "ipython3",
   "version": "3.8.18"
  },
  "orig_nbformat": 4
 },
 "nbformat": 4,
 "nbformat_minor": 2
}
