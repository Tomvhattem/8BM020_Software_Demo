{
 "cells": [
  {
   "cell_type": "markdown",
   "metadata": {},
   "source": [
    "## Imswitch/UC2-REST DEMO for 8P370 CBL Microscopy\n",
    "\n",
    "**By Marcus Vroemen and Tom van Hattem**\n",
    "\n",
    "*Using the open UC2 Rest and Imswitch Software*\n",
    "\n",
    "This tutorial and demo will shows you how to get started with Imswitch and UC2 in Python. Imswitch is a software package that allows the creation of graphical user interfaces (GUIs) and interact with our hardware, the open UC2 Controller Board to turn on LED matrices or control the motors. The board itself will not handle cameras, these will usually be handled over USB. Most online tutorials will show you. how to flash the boards. This should already be done on the controller boards, but if not they can easily be reflashed with help of this page: https://youseetoo.github.io/ <br>\n",
    "But before reflashing your computer will require drivers to see the controller board. If the official openUC2 boards are used with a ESP32-WROOM-32D controller and shield, you will need the CP210x drivers: https://www.silabs.com/developers/usb-to-uart-bridge-vcp-drivers?tab=downloads\n",
    "It is recommended to use Visual Studio Code or PyCharm, although Spyder is also possible. <br>\n",
    "\n",
    "*Sidenote: also ensure that you are using a data cable. Charging micro usb cables will not be able to interact with the controller board. <br>*\n",
    "\n",
    "Let's get started. First we need to configure the python environment\n"
   ]
  },
  {
   "cell_type": "markdown",
   "metadata": {},
   "source": [
    "### Python Environment Configuration\n",
    "\n",
    "\n"
   ]
  },
  {
   "cell_type": "markdown",
   "metadata": {},
   "source": [
    "1. Create a new Python environment called `8P370`. Do this within the Anaconda command prompt, run:\n",
    "\n"
   ]
  },
  {
   "cell_type": "markdown",
   "metadata": {},
   "source": [
    "```python\n",
    "conda create --name 8P370 python=3.8\n",
    "```"
   ]
  },
  {
   "cell_type": "markdown",
   "metadata": {},
   "source": [
    "2. Make sure to activate the `8P370` environment before proceeding to install pacakges with the following command:\n"
   ]
  },
  {
   "cell_type": "markdown",
   "metadata": {},
   "source": [
    "```python\n",
    "conda activate 8P370\n",
    "```"
   ]
  },
  {
   "cell_type": "markdown",
   "metadata": {},
   "source": [
    "\n",
    "\n",
    "3. Next, install `UC2-REST` and `ImSwitch`  packages (and other packages you might need at the place of <...>) with `pip` using the following command:"
   ]
  },
  {
   "cell_type": "markdown",
   "metadata": {},
   "source": [
    "```python\n",
    "pip install UC2-REST \n",
    "pip install ImSwitchUC2==0.2.0.14\n",
    "pip install <...> \n",
    "```"
   ]
  },
  {
   "cell_type": "markdown",
   "metadata": {},
   "source": [
    "Hint: Make sure to only use `pip` from now on. Do not mix `pip` with `conda install`. Trust me."
   ]
  },
  {
   "cell_type": "markdown",
   "metadata": {},
   "source": [
    "###  basic Python Code to control the microscope"
   ]
  },
  {
   "cell_type": "code",
   "execution_count": 1,
   "metadata": {},
   "outputs": [
    {
     "name": "stderr",
     "output_type": "stream",
     "text": [
      "\u001b[32m2023-09-19 13:18:43\u001b[0m \u001b[1;30mERROR\u001b[0m \u001b[31m[UC2Client] string indices must be integers\u001b[0m\n",
      "\u001b[32m2023-09-19 13:18:43\u001b[0m \u001b[1;30mERROR\u001b[0m \u001b[31m[UC2Client] string indices must be integers\u001b[0m\n",
      "\u001b[32m2023-09-19 13:18:43\u001b[0m \u001b[1;30mDEBUG\u001b[0m \u001b[32m[UC2Client] COM76\u001b[0m\n",
      "\u001b[32m2023-09-19 13:18:43\u001b[0m \u001b[1;30mDEBUG\u001b[0m \u001b[32m[UC2Client] Trying out port COM76 failed\u001b[0m\n",
      "\u001b[32m2023-09-19 13:18:43\u001b[0m \u001b[1;30mERROR\u001b[0m \u001b[31m[UC2Client] could not open port 'COM76': PermissionError(13, 'Access is denied.', None, 5)\u001b[0m\n",
      "\u001b[32m2023-09-19 13:18:43\u001b[0m \u001b[1;30mDEBUG\u001b[0m \u001b[32m[UC2Client] No USB device connected! Using DUMMY!\u001b[0m\n",
      "\u001b[32m2023-09-19 13:18:43\u001b[0m \u001b[1;30mDEBUG\u001b[0m \u001b[32m[UC2Client] Using API version 2\u001b[0m\n",
      "\u001b[32m2023-09-19 13:18:43\u001b[0m \u001b[1;30mDEBUG\u001b[0m \u001b[32m[UC2Client] Attention, lasers are on channels 1,2,3\u001b[0m\n"
     ]
    },
    {
     "name": "stdout",
     "output_type": "stream",
     "text": [
      "config is not valid\n",
      "\n"
     ]
    }
   ],
   "source": [
    "import uc2rest as uc2\n",
    "\n",
    "serialport = \"COM76\" # for Windows - change accordingly\n",
    "#serialport = \"/dev/cu.SLAB_USBtoUART\" # for MAC change accordingly\n",
    "#serialport = \"/dev/cu.wchusbserial110\" # for MAC change accordingly\n",
    "\n",
    "ESP32 = uc2.UC2Client(serialport=serialport)\n",
    "\n",
    "_state = ESP32.state.get_state()\n",
    "print(_state)"
   ]
  },
  {
   "cell_type": "code",
   "execution_count": 2,
   "metadata": {},
   "outputs": [
    {
     "name": "stderr",
     "output_type": "stream",
     "text": [
      "\u001b[32m2023-09-19 13:36:15\u001b[0m \u001b[1;30mERROR\u001b[0m \u001b[31m[UC2Client] could not open port 'unknown': FileNotFoundError(2, 'The system cannot find the file specified.', None, 2)\u001b[0m\n",
      "\u001b[32m2023-09-19 13:36:15\u001b[0m \u001b[1;30mDEBUG\u001b[0m \u001b[32m[UC2Client] COM76\u001b[0m\n",
      "\u001b[32m2023-09-19 13:36:18\u001b[0m \u001b[1;30mERROR\u001b[0m \u001b[31m[UC2Client] string indices must be integers\u001b[0m\n",
      "\u001b[32m2023-09-19 13:36:18\u001b[0m \u001b[1;30mDEBUG\u001b[0m \u001b[32m[UC2Client] Trying out port COM76 failed\u001b[0m\n",
      "\u001b[32m2023-09-19 13:36:18\u001b[0m \u001b[1;30mERROR\u001b[0m \u001b[31m[UC2Client] string indices must be integers\u001b[0m\n",
      "\u001b[32m2023-09-19 13:36:18\u001b[0m \u001b[1;30mDEBUG\u001b[0m \u001b[32m[UC2Client] No USB device connected! Using DUMMY!\u001b[0m\n",
      "\u001b[32m2023-09-19 13:36:18\u001b[0m \u001b[1;30mDEBUG\u001b[0m \u001b[32m[UC2Client] Using API version 2\u001b[0m\n",
      "\u001b[32m2023-09-19 13:36:18\u001b[0m \u001b[1;30mDEBUG\u001b[0m \u001b[32m[UC2Client] Attention, lasers are on channels 1,2,3\u001b[0m\n"
     ]
    },
    {
     "name": "stdout",
     "output_type": "stream",
     "text": [
      "config is not valid\n"
     ]
    }
   ],
   "source": [
    "import uc2rest\n",
    "ESP32 = uc2rest.UC2Client(serialport=\"unknown\")\n",
    "\n",
    "# setting debug output of the serial to true - all message will be printed\n",
    "ESP32.serial.DEBUG=False"
   ]
  },
  {
   "cell_type": "code",
   "execution_count": 2,
   "metadata": {},
   "outputs": [
    {
     "ename": "ModuleNotFoundError",
     "evalue": "No module named 'ESP32Client'",
     "output_type": "error",
     "traceback": [
      "\u001b[1;31m---------------------------------------------------------------------------\u001b[0m",
      "\u001b[1;31mModuleNotFoundError\u001b[0m                       Traceback (most recent call last)",
      "\u001b[1;32mc:\\Users\\20202827\\OneDrive - TU Eindhoven\\Modules\\Jaar 3\\Q4\\TA - CBL Microscopy\\ImSwitch Code\\8P370_Imswitch_DEMO\\DEMO.ipynb Cell 12\u001b[0m line \u001b[0;36m1\n\u001b[1;32m----> <a href='vscode-notebook-cell:/c%3A/Users/20202827/OneDrive%20-%20TU%20Eindhoven/Modules/Jaar%203/Q4/TA%20-%20CBL%20Microscopy/ImSwitch%20Code/8P370_Imswitch_DEMO/DEMO.ipynb#X14sZmlsZQ%3D%3D?line=0'>1</a>\u001b[0m \u001b[39mfrom\u001b[39;00m \u001b[39mESP32Client\u001b[39;00m \u001b[39mimport\u001b[39;00m ESP32Client  \n\u001b[0;32m      <a href='vscode-notebook-cell:/c%3A/Users/20202827/OneDrive%20-%20TU%20Eindhoven/Modules/Jaar%203/Q4/TA%20-%20CBL%20Microscopy/ImSwitch%20Code/8P370_Imswitch_DEMO/DEMO.ipynb#X14sZmlsZQ%3D%3D?line=1'>2</a>\u001b[0m ESP32 \u001b[39m=\u001b[39m ESP32Client(serialport\u001b[39m=\u001b[39m\u001b[39m\"\u001b[39m\u001b[39munknown\u001b[39m\u001b[39m\"\u001b[39m)\n\u001b[0;32m      <a href='vscode-notebook-cell:/c%3A/Users/20202827/OneDrive%20-%20TU%20Eindhoven/Modules/Jaar%203/Q4/TA%20-%20CBL%20Microscopy/ImSwitch%20Code/8P370_Imswitch_DEMO/DEMO.ipynb#X14sZmlsZQ%3D%3D?line=3'>4</a>\u001b[0m \u001b[39m# move and measure\u001b[39;00m\n",
      "\u001b[1;31mModuleNotFoundError\u001b[0m: No module named 'ESP32Client'"
     ]
    }
   ],
   "source": [
    "from ESP32Client import ESP32Client  \n",
    "ESP32 = ESP32Client(serialport=\"unknown\")\n",
    "\n",
    "# move and measure\n",
    "print(\"Current position: \"+ str(ESP32.get_position(axis=1)))\n",
    "ESP32.move_x(steps=1000, speed=1000, is_blocking=True, is_absolute=True, is_enabled=True)\n",
    "\n",
    "# set a funny pattern\n",
    "import numpy as np\n",
    "\n",
    "Nx=8\n",
    "Ny=8\n",
    "led_pattern = np.abs(np.int8(np.random.randn(3,Nx*Ny)*255))\n",
    "ESP32.send_LEDMatrix_array(led_pattern, timeout=1)"
   ]
  },
  {
   "cell_type": "code",
   "execution_count": null,
   "metadata": {},
   "outputs": [],
   "source": []
  }
 ],
 "metadata": {
  "kernelspec": {
   "display_name": "microscopy",
   "language": "python",
   "name": "python3"
  },
  "language_info": {
   "codemirror_mode": {
    "name": "ipython",
    "version": 3
   },
   "file_extension": ".py",
   "mimetype": "text/x-python",
   "name": "python",
   "nbconvert_exporter": "python",
   "pygments_lexer": "ipython3",
   "version": "3.8.18"
  },
  "orig_nbformat": 4
 },
 "nbformat": 4,
 "nbformat_minor": 2
}
