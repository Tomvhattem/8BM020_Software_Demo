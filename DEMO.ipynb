{
 "cells": [
  {
   "cell_type": "markdown",
   "metadata": {},
   "source": [
    "## Imswitch/UC2-REST DEMO for 8P370 CBL Microscopy\n",
    "\n",
    "**By Marcus Vroemen and Tom van Hattem**\n",
    "\n",
    "*Using the open UC2 Rest and Imswitch Software*\n",
    "\n",
    "This tutorial and demo will shows you how to get started with Imswitch and UC2 in Python. Imswitch is a software package that allows the creation of graphical user interfaces (GUIs) and interact with our hardware, the open UC2 Controller Board to turn on LED matrices or control the motors. The board itself will not handle cameras, these will usually be handled over USB. Most online tutorials will show you. how to flash the boards. This should already be done on the controller boards, but if not they can easily be reflashed with help of this page: https://youseetoo.github.io/ <br>\n",
    "But before reflashing your computer will require drivers to see the controller board. If the official openUC2 boards are used with a ESP32-WROOM-32D controller and shield, you will need the CP210x drivers: https://www.silabs.com/developers/usb-to-uart-bridge-vcp-drivers?tab=downloads\n",
    "It is recommended to use Visual Studio Code or PyCharm, although Spyder is also possible. <br>\n",
    "\n",
    "IMPORTANT: Do not attempt to use the motors without an external power supply. Powering over USB will most certainly not work/damage your computer.\n",
    "\n",
    "*Sidenote: also ensure that you are using a data cable. Charging micro usb cables will not be able to interact with the controller board. <br>*\n",
    "\n",
    "Let's get started. First we need to configure the python environment\n"
   ]
  },
  {
   "cell_type": "markdown",
   "metadata": {},
   "source": [
    "### Python Environment Configuration\n",
    "\n",
    "\n"
   ]
  },
  {
   "cell_type": "markdown",
   "metadata": {},
   "source": [
    "1. Create a new Python environment called `8P370`. Do this within the Anaconda command prompt, run:\n",
    "\n"
   ]
  },
  {
   "cell_type": "markdown",
   "metadata": {},
   "source": [
    "```python\n",
    "conda create --name 8P370 python=3.8\n",
    "```"
   ]
  },
  {
   "cell_type": "markdown",
   "metadata": {},
   "source": [
    "2. Make sure to activate the `8P370` environment before proceeding to install pacakges with the following command:\n"
   ]
  },
  {
   "cell_type": "markdown",
   "metadata": {},
   "source": [
    "```python\n",
    "conda activate 8P370\n",
    "```"
   ]
  },
  {
   "cell_type": "markdown",
   "metadata": {},
   "source": [
    "\n",
    "\n",
    "3. Next, install `UC2-REST` and `ImSwitch`  packages (and other packages you might need at the place of <...>) with `pip` using the following command:"
   ]
  },
  {
   "cell_type": "markdown",
   "metadata": {},
   "source": [
    "```python\n",
    "pip install UC2-REST \n",
    "pip install ImSwitchUC2==0.2.0.14\n",
    "pip install <...> \n",
    "```"
   ]
  },
  {
   "cell_type": "markdown",
   "metadata": {},
   "source": [
    "Hint: Make sure to only use `pip` from now on. Do not mix `pip` with `conda install`. Trust me."
   ]
  },
  {
   "cell_type": "markdown",
   "metadata": {},
   "source": [
    "###  basic Python Code to control the microscope"
   ]
  },
  {
   "cell_type": "markdown",
   "metadata": {},
   "source": [
    "To use python code to control the microscope, we need to communicate with the UC2 Controller board. This is a USB connection through COM ports. In windows open the device manager, under Ports(COM&LPT) when the board is connected it should show `Silicon Labs CP210x USB to UART Bridge (COM4)`. COM4 could be a different port but by default it usually is 3 or 4. Change in the next code block the serialport to your COM port. It has to be a string."
   ]
  },
  {
   "cell_type": "code",
   "execution_count": 8,
   "metadata": {},
   "outputs": [
    {
     "name": "stderr",
     "output_type": "stream",
     "text": [
      "\u001b[32m2023-09-26 14:27:00\u001b[0m \u001b[1;30mERROR\u001b[0m \u001b[31m[UC2Client] string indices must be integers\u001b[0m\n",
      "\u001b[32m2023-09-26 14:27:00\u001b[0m \u001b[1;30mERROR\u001b[0m \u001b[31m[UC2Client] string indices must be integers\u001b[0m\n",
      "\u001b[32m2023-09-26 14:27:00\u001b[0m \u001b[1;30mDEBUG\u001b[0m \u001b[32m[UC2Client] COM76\u001b[0m\n",
      "\u001b[32m2023-09-26 14:27:00\u001b[0m \u001b[1;30mDEBUG\u001b[0m \u001b[32m[UC2Client] Trying out port COM76 failed\u001b[0m\n",
      "\u001b[32m2023-09-26 14:27:00\u001b[0m \u001b[1;30mERROR\u001b[0m \u001b[31m[UC2Client] could not open port 'COM76': PermissionError(13, 'Access is denied.', None, 5)\u001b[0m\n",
      "\u001b[32m2023-09-26 14:27:00\u001b[0m \u001b[1;30mDEBUG\u001b[0m \u001b[32m[UC2Client] No USB device connected! Using DUMMY!\u001b[0m\n",
      "\u001b[32m2023-09-26 14:27:00\u001b[0m \u001b[1;30mDEBUG\u001b[0m \u001b[32m[UC2Client] Using API version 2\u001b[0m\n",
      "\u001b[32m2023-09-26 14:27:00\u001b[0m \u001b[1;30mDEBUG\u001b[0m \u001b[32m[UC2Client] Attention, lasers are on channels 1,2,3\u001b[0m\n"
     ]
    },
    {
     "name": "stdout",
     "output_type": "stream",
     "text": [
      "config is not valid\n",
      "\n"
     ]
    }
   ],
   "source": [
    "%reload_ext autoreload \n",
    "%autoreload 2\n",
    "\n",
    "import uc2rest as uc2\n",
    "\n",
    "serialport = \"COM76\" # for Windows - change accordingly\n",
    "#serialport = \"/dev/cu.SLAB_USBtoUART\" # for MAC change accordingly\n",
    "#serialport = \"/dev/cu.wchusbserial110\" # for MAC change accordingly\n",
    "\n",
    "ESP32 = uc2.UC2Client(serialport=serialport)\n",
    "\n",
    "_state = ESP32.state.get_state()\n",
    "print(_state)"
   ]
  },
  {
   "cell_type": "markdown",
   "metadata": {},
   "source": [
    "# TROUBLESHOOTING\n",
    "\n",
    "There are several things that limit the board from being connected correctly to your laptop/pc. The first thing to check is if you have the correct drivers installed: https://www.silabs.com/developers/usb-to-uart-bridge-vcp-drivers?tab=downloads\n",
    "\n",
    "Next check if you are using the correct cable, and if it shows up in the device manager. \n",
    "\n",
    "For the error could not open port 'COM3': PermissionError(13, 'Access is denied.', None, 5). It is likely that another program or kernel is running and has the com port opened. For example a program such as Ultimaker CURA or Arduino IDE is likely to interfere with UC2, therefore close it and disable opening the program on startup in the task manager (for convenience).\n",
    "\n",
    "Also check that you are using the correct com port (as seen in the device manager.)\n",
    "\n",
    "To check if the hardware works correctly it is also possible to check using https://youseetoo.github.io/indexWebSerialTest.html. This will ask in the browser to connect to the UC2 controller board and if a Z-stage motor or LED ring is correctly connected to the right port (labelled on the pcb) then you should be able to control them. \n"
   ]
  },
  {
   "cell_type": "markdown",
   "metadata": {},
   "source": []
  }
 ],
 "metadata": {
  "kernelspec": {
   "display_name": "microscopy",
   "language": "python",
   "name": "python3"
  },
  "language_info": {
   "codemirror_mode": {
    "name": "ipython",
    "version": 3
   },
   "file_extension": ".py",
   "mimetype": "text/x-python",
   "name": "python",
   "nbconvert_exporter": "python",
   "pygments_lexer": "ipython3",
   "version": "3.8.18"
  },
  "orig_nbformat": 4
 },
 "nbformat": 4,
 "nbformat_minor": 2
}
