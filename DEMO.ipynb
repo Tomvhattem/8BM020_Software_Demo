{
 "cells": [
  {
   "cell_type": "markdown",
   "metadata": {},
   "source": [
    "## Imswitch/UC2-REST DEMO for 8P370 CBL Microscopy\n",
    "\n",
    "**By Marcus Vroemen and Tom van Hattem**\n",
    "\n",
    "*Using the open UC2 Rest and Imswitch Software*\n",
    "\n",
    "This tutorial and demo will shows you how to get started with Imswitch and UC2 in Python. Imswitch is a software package that allows the creation of graphical user interfaces (GUIs) and interact with our hardware, the open UC2 Controller Board to turn on LED matrices or control the motors. The board itself will not handle cameras, these will usually be handled over USB. Most online tutorials will show you. how to flash the boards. This should already be done on the controller boards, but if not they can easily be reflashed with help of this page: https://youseetoo.github.io/ <br>\n",
    "But before reflashing your computer will require drivers to see the controller board. If the official openUC2 boards are used with a ESP32-WROOM-32D controller and shield, you will need the CP210x drivers: https://www.silabs.com/developers/usb-to-uart-bridge-vcp-drivers?tab=downloads\n",
    "It is recommended to use Visual Studio Code or PyCharm, although Spyder is also possible. <br>\n",
    "\n",
    "IMPORTANT: Do not attempt to use the motors without an external power supply. Powering over USB will most certainly not work/damage your computer.\n",
    "\n",
    "*Sidenote: also ensure that you are using a data cable. Charging micro usb cables will not be able to interact with the controller board. <br>*\n",
    "\n",
    "Let's get started. First we need to configure the python environment\n"
   ]
  },
  {
   "cell_type": "markdown",
   "metadata": {},
   "source": [
    "### Python Environment Configuration\n",
    "\n",
    "\n"
   ]
  },
  {
   "cell_type": "markdown",
   "metadata": {},
   "source": [
    "1. Create a new Python environment called `8P370`. Do this within the Anaconda command prompt, run:\n",
    "\n"
   ]
  },
  {
   "cell_type": "markdown",
   "metadata": {},
   "source": [
    "```python\n",
    "conda create --name 8P370 python=3.8\n",
    "```"
   ]
  },
  {
   "cell_type": "markdown",
   "metadata": {},
   "source": [
    "2. Make sure to activate the `8P370` environment before proceeding to install pacakges with the following command:\n"
   ]
  },
  {
   "cell_type": "markdown",
   "metadata": {},
   "source": [
    "```python\n",
    "conda activate 8P370\n",
    "```"
   ]
  },
  {
   "cell_type": "markdown",
   "metadata": {},
   "source": [
    "\n",
    "\n",
    "3. Next, install `UC2-REST` and `ImSwitch`  packages (and other packages you might need at the place of <...>) with `pip` using the following command:"
   ]
  },
  {
   "cell_type": "markdown",
   "metadata": {},
   "source": [
    "```python\n",
    "pip install UC2-REST --user\n",
    "pip install ImSwitchUC2==0.2.0.14\n",
    "pip install ipykernel \n",
    "pip install <...> \n",
    "```"
   ]
  },
  {
   "cell_type": "markdown",
   "metadata": {},
   "source": [
    "Hint: Make sure to only use `pip` from now on. Do not mix `pip` with `conda install`. Trust me."
   ]
  },
  {
   "cell_type": "markdown",
   "metadata": {},
   "source": [
    "###  basic Python Code to control the microscope"
   ]
  },
  {
   "cell_type": "markdown",
   "metadata": {},
   "source": [
    "To use python code to control the microscope, we need to communicate with the UC2 Controller board. This is a USB connection through COM ports. In windows open the device manager, under Ports(COM&LPT) when the board is connected it should show `Silicon Labs CP210x USB to UART Bridge (COM4)`. COM4 could be a different port but by default it usually is 3 or 4. Change in the next code block the serialport to your COM port. It has to be a string."
   ]
  },
  {
   "cell_type": "code",
   "execution_count": 1,
   "metadata": {},
   "outputs": [],
   "source": [
    "%reload_ext autoreload \n",
    "%autoreload 2\n",
    "\n",
    "#Import necessary libraries\n",
    "import uc2rest as uc2\n",
    "import numpy as np \n",
    "import time"
   ]
  },
  {
   "cell_type": "code",
   "execution_count": 2,
   "metadata": {},
   "outputs": [
    {
     "name": "stdout",
     "output_type": "stream",
     "text": [
      "Using API version 2\n",
      "Attention, lasers are on channels 1,2,3\n",
      "{'identifier_name': 'UC2_Feather', 'identifier_id': 'V2.0', 'identifier_date': 'Sep  7 202316:32:04', 'identifier_author': 'BD', 'IDENTIFIER_NAME': 'uc2-esp', 'configIsSet': 0, 'pindef': 'UC2_2', 'qid': 4}\n"
     ]
    }
   ],
   "source": [
    "#Open communication with the UC2 Controller Board\n",
    "#If it takes longer than 3 seconds, just restart the kernel.\n",
    "\n",
    "serialport = \"COM76\" # for Windows - change accordingly\n",
    "#serialport = \"/dev/cu.SLAB_USBtoUART\" # for MAC change accordingly\n",
    "#serialport = \"/dev/cu.wchusbserial110\" # for MAC change accordingly\n",
    "\n",
    "if 'ESP32' not in locals():\n",
    "    ESP32 = uc2.UC2Client(serialport=serialport)\n",
    "_state = ESP32.state.get_state()\n",
    "print(_state)"
   ]
  },
  {
   "cell_type": "markdown",
   "metadata": {},
   "source": [
    "# LED MATRIX\n",
    "\n",
    "Now that we have initialized the COM port and UC2 controller we can test the LED matrix. Connect it to the LED1 port.\n",
    "\n",
    "<img src=\"img//IMG20230926153841.jpg\" alt=\"alt text\" width=\"500\"/>"
   ]
  },
  {
   "cell_type": "code",
   "execution_count": 4,
   "metadata": {},
   "outputs": [
    {
     "name": "stdout",
     "output_type": "stream",
     "text": [
      "The LED pin is: 8\n"
     ]
    },
    {
     "data": {
      "text/plain": [
       "{'success': 1}"
      ]
     },
     "execution_count": 4,
     "metadata": {},
     "output_type": "execute_result"
    }
   ],
   "source": [
    "# test LED\n",
    "\n",
    "print(\"The LED pin is: \"+str(ESP32.led.get_ledpin()))\n",
    "time.sleep(2)\n",
    "ESP32.led.send_LEDMatrix_full(intensity=(255, 255, 255))\n",
    "time.sleep(1.5)\n",
    "ESP32.led.send_LEDMatrix_full(intensity=(0, 0, 0))"
   ]
  },
  {
   "cell_type": "markdown",
   "metadata": {},
   "source": [
    "# Initializing and Moving the motors\n",
    "Now lets connect the z-stage. Make sure to connect the external power supply, please don't blow up your usb ports. \n",
    "\n",
    "The following code snippets will help you moving the motors (XYZ) continously or at a known number of steps at a certain speed level (all measured in steps/s). <br>\n",
    "**In general:** The axes are: \n",
    "A => 0\n",
    "X => 1\n",
    "Y => 2\n",
    "Z => 3\n",
    "\n",
    "For the Z-stage:\n",
    "\n",
    "<img src=\"img//IMG20230926161544.jpg\" alt=\"alt text\" width=\"350\"/>"
   ]
  },
  {
   "cell_type": "code",
   "execution_count": 26,
   "metadata": {},
   "outputs": [],
   "source": [
    "if 0: # we don't want to change the configuration now\n",
    "    # OR setup motors individually (according to WEMOS R32 D1)\n",
    "    #ESP32.motor.set_motor(stepperid = 1, position = 0, stepPin = 26, dirPin=16, enablePin=12, maxPos=None, minPos=None, acceleration=None, isEnable=1)\n",
    "    #ESP32.motor.set_motor(stepperid = 2, position = 0, stepPin = 25, dirPin=27, enablePin=12, maxPos=None, minPos=None, acceleration=None, isEnable=1)\n",
    "    ESP32.motor.set_motor(stepperid = 3, position = 0, stepPin = 17, dirPin=14, enablePin=12, maxPos=None, minPos=None, acceleration=None, isEnable=1)\n",
    "    #ESP32.motor.set_motor(stepperid = 0, position = 0, stepPin = 19, dirPin=18, enablePin=12, maxPos=None, minPos=None, acceleration=None, isEnable=1)\n"
   ]
  },
  {
   "cell_type": "code",
   "execution_count": 32,
   "metadata": {},
   "outputs": [
    {
     "name": "stdout",
     "output_type": "stream",
     "text": [
      "[     0.      0.      0. -29300.]\n",
      "[     0.      0.      0. -29300.]\n"
     ]
    },
    {
     "name": "stdout",
     "output_type": "stream",
     "text": [
      "ClearCommError failed (PermissionError(13, 'Access is denied.', None, 5))\n"
     ]
    }
   ],
   "source": [
    "position1 = ESP32.motor.get_position(timeout=1)\n",
    "print(position1)\n",
    "\n",
    "ESP32.motor.move_z(steps=-10000, speed=10000, is_blocking=True)\n",
    "ESP32.motor.move_z(steps=10000, speed=10000, is_blocking=True)\n",
    "\n",
    "time.sleep(1) \n",
    "\n",
    "position2 = ESP32.motor.get_position(timeout=1)\n",
    "print(position2)"
   ]
  },
  {
   "cell_type": "markdown",
   "metadata": {},
   "source": [
    "# TROUBLESHOOTING\n",
    "Once the `ESP32 = uc2.UC2Client(serialport=serialport)` command is executed, within the current kernel, the ESP32 class is available. To close this the port needs to be closed with .close(). If you reattept to run the command again, it will provide a error such as: \n",
    "```python\n",
    "PermissionError(13, 'Access is denied.', None, 5)\n",
    "``` \n",
    "As two instances are not possible. Please restart the kernel to proceed. If anything else goes wrong, also just restart the kernel. For the permission error, it is also likely that another program or kernel is running and has the com port opened. For example a program such as Ultimaker CURA or Arduino IDE is likely to interfere with UC2, therefore close it and disable opening the program on startup in the task manager (for convenience). \n",
    "\n",
    "```python\n",
    "FileNotFoundError(2, 'The system cannot find the file specified.', None, 2)\n",
    "``` \n",
    "For a not found error it is likely that the COM port is wrong (or usb not connected properly). \n",
    "\n",
    "There are several things that limit the board from being connected correctly to your laptop/pc. The first thing to check is if you have the correct drivers installed: https://www.silabs.com/developers/usb-to-uart-bridge-vcp-drivers?tab=downloads\n",
    "\n",
    "Next check if you are using the correct cable, and if it shows up in the device manager. \n",
    "\n",
    "\n",
    "\n",
    "Also check that you are using the correct com port (as seen in the device manager.)\n",
    "\n",
    "To check if the hardware works correctly it is also possible to check using https://youseetoo.github.io/indexWebSerialTest.html. This will ask in the browser to connect to the UC2 controller board and if a Z-stage motor or LED ring is correctly connected to the right port (labelled on the pcb) then you should be able to control them. \n",
    "\n",
    "Sometimes `pip UC2-REST --force-reinstall --user` will cause the code to execute properly. Feel free to try this. Remember to first activate your env 8P370 in anaconda (or other env manager).\n"
   ]
  },
  {
   "cell_type": "code",
   "execution_count": null,
   "metadata": {},
   "outputs": [],
   "source": [
    "#Try to manually open the serial port to check if this works. \n",
    "# import serial\n",
    "# import time\n",
    "# c = serial.Serial('COM76', 9600)\n",
    "# counter = 0\n",
    "# while True:\n",
    "#     signal = c.read()\n",
    "#     print(\"running\")\n",
    "#     print(signal)\n",
    "#     time.sleep(0.1)\n",
    "#     c.flushOutput()\n",
    "#     counter +=1\n",
    "#     if counter == 10:\n",
    "#         c.close()\n",
    "#         break"
   ]
  }
 ],
 "metadata": {
  "kernelspec": {
   "display_name": "microscopy",
   "language": "python",
   "name": "python3"
  },
  "language_info": {
   "codemirror_mode": {
    "name": "ipython",
    "version": 3
   },
   "file_extension": ".py",
   "mimetype": "text/x-python",
   "name": "python",
   "nbconvert_exporter": "python",
   "pygments_lexer": "ipython3",
   "version": "3.8.18"
  },
  "orig_nbformat": 4
 },
 "nbformat": 4,
 "nbformat_minor": 2
}
